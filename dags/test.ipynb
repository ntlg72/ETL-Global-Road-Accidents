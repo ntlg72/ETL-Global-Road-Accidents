{
 "cells": [
  {
   "cell_type": "code",
   "execution_count": 1,
   "metadata": {},
   "outputs": [],
   "source": [
    "import requests\n",
    "import os"
   ]
  },
  {
   "cell_type": "code",
   "execution_count": 10,
   "metadata": {},
   "outputs": [
    {
     "name": "stdout",
     "output_type": "stream",
     "text": [
      "✅ Datos guardados exitosamente en ../data\\FARS_data.csv\n"
     ]
    }
   ],
   "source": [
    "# URL del API y parámetros\n",
    "url = \"https://crashviewer.nhtsa.dot.gov/CrashAPI/FARSData/GetFARSData?dataset=Accident&FromYear=2017&ToYear=2022&State=*&format=csv\"\n",
    "\n",
    "# Encabezados\n",
    "headers = {\n",
    "    \"Accept\": \"application/json\",\n",
    "    \"User-Agent\": \"Mozilla/5.0 (Windows NT 10.0; Win64; x64)\"\n",
    "}\n",
    "\n",
    "# Ruta de destino para guardar el archivo CSV\n",
    "output_dir = \"../data\"\n",
    "output_file = os.path.join(output_dir, \"FARS_data.csv\")\n",
    "\n",
    "# Crear el directorio si no existe\n",
    "os.makedirs(output_dir, exist_ok=True)\n",
    "\n",
    "# Realizar la solicitud al API\n",
    "try:\n",
    "    response = requests.get(url, headers=headers, timeout=600, stream=True)  \n",
    "    if response.status_code == 200:\n",
    "        # Guardar los datos en el archivo CSV\n",
    "        with open(output_file, \"wb\") as file:\n",
    "            for chunk in response.iter_content(chunk_size=1024):\n",
    "                if chunk:\n",
    "                    file.write(chunk)\n",
    "        print(f\"✅ Datos guardados exitosamente en {output_file}\")\n",
    "    else:\n",
    "        print(f\"❌ Error en la solicitud: Código HTTP {response.status_code}\")\n",
    "except requests.exceptions.RequestException as e:\n",
    "    print(f\"❌ Error al realizar la solicitud: {e}\")"
   ]
  },
  {
   "cell_type": "code",
   "execution_count": 2,
   "metadata": {},
   "outputs": [
    {
     "name": "stdout",
     "output_type": "stream",
     "text": [
      "Descargando datos para el año 2017...\n",
      "✅ Datos del año 2017 guardados exitosamente en ../data\\FARS_data_2017.csv\n",
      "Descargando datos para el año 2018...\n",
      "✅ Datos del año 2018 guardados exitosamente en ../data\\FARS_data_2018.csv\n",
      "Descargando datos para el año 2019...\n",
      "✅ Datos del año 2019 guardados exitosamente en ../data\\FARS_data_2019.csv\n",
      "Descargando datos para el año 2020...\n",
      "✅ Datos del año 2020 guardados exitosamente en ../data\\FARS_data_2020.csv\n",
      "Descargando datos para el año 2021...\n",
      "✅ Datos del año 2021 guardados exitosamente en ../data\\FARS_data_2021.csv\n",
      "Descargando datos para el año 2022...\n",
      "✅ Datos del año 2022 guardados exitosamente en ../data\\FARS_data_2022.csv\n"
     ]
    }
   ],
   "source": [
    "import requests\n",
    "import os\n",
    "\n",
    "# Ruta base del API\n",
    "base_url = \"https://crashviewer.nhtsa.dot.gov/CrashAPI/FARSData/GetFARSData\"\n",
    "\n",
    "# Encabezados\n",
    "headers = {\n",
    "    \"Accept\": \"application/json\",\n",
    "    \"User-Agent\": \"Mozilla/5.0 (Windows NT 10.0; Win64; x64)\"\n",
    "}\n",
    "\n",
    "# Crear la carpeta para almacenar los archivos CSV\n",
    "output_dir = \"../data\"\n",
    "os.makedirs(output_dir, exist_ok=True)\n",
    "\n",
    "# Automatizar la descarga por año\n",
    "for year in range(2017, 2023):  # De 2015 a 2022\n",
    "    # Construir la URL para cada año dinámicamente\n",
    "    url = f\"{base_url}?dataset=Accident&FromYear={year}&ToYear={year}&State=*&format=csv\"\n",
    "    print(f\"Descargando datos para el año {year}...\")\n",
    "\n",
    "    try:\n",
    "        # Realizar la solicitud al API\n",
    "        response = requests.get(url, headers=headers, timeout=600, stream=True)  # Timeout de 10 minutos\n",
    "\n",
    "        # Verificar si la solicitud fue exitosa\n",
    "        if response.status_code == 200:\n",
    "            # Guardar los datos en el archivo CSV\n",
    "            output_file = os.path.join(output_dir, f\"FARS_data_{year}.csv\")\n",
    "            with open(output_file, \"wb\") as file:\n",
    "                for chunk in response.iter_content(chunk_size=1024):\n",
    "                    if chunk:\n",
    "                        file.write(chunk)\n",
    "            print(f\"✅ Datos del año {year} guardados exitosamente en {output_file}\")\n",
    "        else:\n",
    "            print(f\"❌ Error al obtener los datos para el año {year}: Código HTTP {response.status_code}\")\n",
    "            print(response.text)\n",
    "\n",
    "    except requests.exceptions.Timeout:\n",
    "        print(f\"⏱️ La solicitud para el año {year} excedió el tiempo límite.\")\n",
    "    except requests.exceptions.RequestException as e:\n",
    "        print(f\"❌ Error en la solicitud para el año {year}: {e}\")"
   ]
  }
 ],
 "metadata": {
  "kernelspec": {
   "display_name": "venv",
   "language": "python",
   "name": "python3"
  },
  "language_info": {
   "codemirror_mode": {
    "name": "ipython",
    "version": 3
   },
   "file_extension": ".py",
   "mimetype": "text/x-python",
   "name": "python",
   "nbconvert_exporter": "python",
   "pygments_lexer": "ipython3",
   "version": "3.12.9"
  }
 },
 "nbformat": 4,
 "nbformat_minor": 2
}
