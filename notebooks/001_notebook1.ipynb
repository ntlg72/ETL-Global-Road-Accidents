{
 "cells": [
  {
   "cell_type": "code",
   "execution_count": 5,
   "metadata": {},
   "outputs": [
    {
     "name": "stdout",
     "output_type": "stream",
     "text": [
      "Conexión exitosa\n"
     ]
    }
   ],
   "source": [
    "import psycopg2 \n",
    "import os\n",
    "from dotenv import load_dotenv\n",
    "\n",
    "\n",
    "load_dotenv()  # Carga las variables de entorno\n",
    "\n",
    "name_db=os.getenv(\"PG_DATABASE\")\n",
    "user_db=os.getenv(\"PG_USER\")\n",
    "host_db=os.getenv(\"PG_HOST\")\n",
    "port_db=os.getenv(\"PG_PORT\")\n",
    "password_db=os.getenv(\"PG_PASSWORD\")\n",
    "\n",
    "try:\n",
    "    connection = psycopg2.connect(\n",
    "        dbname = name_db,\n",
    "        user=user_db,\n",
    "        host=host_db,\n",
    "        port=port_db,\n",
    "        password=password_db\n",
    "    )\n",
    "    print(\"Conexión exitosa\")\n",
    "except Exception as e:\n",
    "    print(\"Error al conectar a la DB:\", e)\n"
   ]
  }
 ],
 "metadata": {
  "kernelspec": {
   "display_name": "venv",
   "language": "python",
   "name": "python3"
  },
  "language_info": {
   "codemirror_mode": {
    "name": "ipython",
    "version": 3
   },
   "file_extension": ".py",
   "mimetype": "text/x-python",
   "name": "python",
   "nbconvert_exporter": "python",
   "pygments_lexer": "ipython3",
   "version": "3.12.9"
  }
 },
 "nbformat": 4,
 "nbformat_minor": 2
}
