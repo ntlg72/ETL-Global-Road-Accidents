{
 "cells": [
  {
   "cell_type": "code",
   "execution_count": 5,
   "metadata": {},
   "outputs": [],
   "source": [
    "import sys\n",
    "import os\n",
    "import pandas as pd\n",
    "from psycopg2 import sql"
   ]
  },
  {
   "cell_type": "code",
   "execution_count": 6,
   "metadata": {},
   "outputs": [
    {
     "name": "stdout",
     "output_type": "stream",
     "text": [
      "Conexión exitosa\n"
     ]
    }
   ],
   "source": [
    "# Add the 'src' directory to the PYTHONPATH\n",
    "sys.path.append(os.path.abspath('../source'))\n",
    "\n",
    "from connection_db.db_utils import get_connection\n",
    "\n",
    "conn = get_connection()\n"
   ]
  },
  {
   "cell_type": "code",
   "execution_count": 7,
   "metadata": {},
   "outputs": [
    {
     "name": "stdout",
     "output_type": "stream",
     "text": [
      "Conexión exitosa\n",
      "Tabla 'accidents' creada correctamente.\n"
     ]
    }
   ],
   "source": [
    "def create_tables():\n",
    "    conn = get_connection()\n",
    "    cur = conn.cursor()\n",
    " \n",
    "    query = sql.SQL(\"\"\"\n",
    "        CREATE TABLE IF NOT EXISTS accidents (\n",
    "            id SERIAL PRIMARY KEY,\n",
    "            country VARCHAR(100) NOT NULL,\n",
    "            year INT NOT NULL,\n",
    "            month VARCHAR(100) NOT NULL,\n",
    "            day_of_week VARCHAR(100) NOT NULL,\n",
    "            time_of_day VARCHAR(100) NOT NULL,\n",
    "            urban_rural VARCHAR(50) NOT NULL,\n",
    "            road_type VARCHAR(100) NOT NULL,\n",
    "            weather_conditions VARCHAR(100) NOT NULL,\n",
    "            visibility_level FLOAT,\n",
    "            number_of_vehicles_involved INT,\n",
    "            speed_limit INT,\n",
    "            driver_age_group VARCHAR(50),\n",
    "            driver_gender VARCHAR(50) NOT NULL,\n",
    "            driver_alcohol_level FLOAT,\n",
    "            driver_fatigue BOOLEAN,\n",
    "            vehicle_condition VARCHAR(100) NOT NULL,\n",
    "            pedestrians_involved INT,\n",
    "            cyclists_involved INT,\n",
    "            accident_severity VARCHAR(100) NOT NULL,\n",
    "            number_of_injuries INT,\n",
    "            number_of_fatalities INT,\n",
    "            emergency_response_time FLOAT,\n",
    "            traffic_volume FLOAT,\n",
    "            road_condition VARCHAR(100) NOT NULL,\n",
    "            accident_cause VARCHAR(100) NOT NULL,\n",
    "            insurance_claims INT,\n",
    "            medical_cost FLOAT,\n",
    "            economic_loss FLOAT,\n",
    "            region VARCHAR(100) NOT NULL,\n",
    "            population_density FLOAT\n",
    "        );\n",
    "    \"\"\")\n",
    "\n",
    "\n",
    "    cur.execute(query)\n",
    "    conn.commit()\n",
    "\n",
    "    cur.close()\n",
    "    conn.close()\n",
    "\n",
    "    print(\"Tabla 'accidents' creada correctamente.\")\n",
    "\n",
    "# Llamar la función\n",
    "create_tables()"
   ]
  },
  {
   "cell_type": "code",
   "execution_count": null,
   "metadata": {},
   "outputs": [],
   "source": [
    "data= pd.read_csv('../data/road_accident_dataset.csv')\n",
    "\n",
    "data"
   ]
  }
 ],
 "metadata": {
  "kernelspec": {
   "display_name": "venv",
   "language": "python",
   "name": "python3"
  },
  "language_info": {
   "codemirror_mode": {
    "name": "ipython",
    "version": 3
   },
   "file_extension": ".py",
   "mimetype": "text/x-python",
   "name": "python",
   "nbconvert_exporter": "python",
   "pygments_lexer": "ipython3",
   "version": "3.12.9"
  }
 },
 "nbformat": 4,
 "nbformat_minor": 2
}
