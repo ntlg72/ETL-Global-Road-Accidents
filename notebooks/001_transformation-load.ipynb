{
 "cells": [
  {
   "cell_type": "markdown",
   "metadata": {},
   "source": [
    "# Transformación y Carga"
   ]
  },
  {
   "cell_type": "markdown",
   "metadata": {},
   "source": [
    "### Importacion de librerias\n"
   ]
  },
  {
   "cell_type": "code",
   "execution_count": 5,
   "metadata": {},
   "outputs": [],
   "source": [
    "import sys\n",
    "import os\n",
    "import pandas as pd\n",
    "import numpy as np\n",
    "from psycopg2 import sql\n",
    "from sqlalchemy import text\n",
    "sys.path.append(os.path.abspath('../source'))\n",
    "from connection_db.db_utils import get_connection, close_connection"
   ]
  },
  {
   "cell_type": "markdown",
   "metadata": {},
   "source": [
    "### Conexión a la base de datos"
   ]
  },
  {
   "cell_type": "markdown",
   "metadata": {},
   "source": [
    "\n",
    "\n",
    "Este fragmento de código establece una conexión a una base de datos PostgreSQL utilizando la función \"get_connection\" del módulo \"connection_db.db_utils\", lee todos los datos de la tabla \"accidents\" en un DataFrame de Pandas, muestra las primeras filas del DataFrame."
   ]
  },
  {
   "cell_type": "code",
   "execution_count": 6,
   "metadata": {},
   "outputs": [
    {
     "name": "stderr",
     "output_type": "stream",
     "text": [
      "2025-05-15 15:20:28,928 - INFO - ✅ Conexión a la base de datos 'gra' creada exitosamente.\n"
     ]
    },
    {
     "data": {
      "text/html": [
       "<div>\n",
       "<style scoped>\n",
       "    .dataframe tbody tr th:only-of-type {\n",
       "        vertical-align: middle;\n",
       "    }\n",
       "\n",
       "    .dataframe tbody tr th {\n",
       "        vertical-align: top;\n",
       "    }\n",
       "\n",
       "    .dataframe thead th {\n",
       "        text-align: right;\n",
       "    }\n",
       "</style>\n",
       "<table border=\"1\" class=\"dataframe\">\n",
       "  <thead>\n",
       "    <tr style=\"text-align: right;\">\n",
       "      <th></th>\n",
       "      <th>country</th>\n",
       "      <th>year</th>\n",
       "      <th>month</th>\n",
       "      <th>day_of_week</th>\n",
       "      <th>time_of_day</th>\n",
       "      <th>urban_rural</th>\n",
       "      <th>road_type</th>\n",
       "      <th>weather_conditions</th>\n",
       "      <th>visibility_level</th>\n",
       "      <th>number_of_vehicles_involved</th>\n",
       "      <th>...</th>\n",
       "      <th>number_of_fatalities</th>\n",
       "      <th>emergency_response_time</th>\n",
       "      <th>traffic_volume</th>\n",
       "      <th>road_condition</th>\n",
       "      <th>accident_cause</th>\n",
       "      <th>insurance_claims</th>\n",
       "      <th>medical_cost</th>\n",
       "      <th>economic_loss</th>\n",
       "      <th>region</th>\n",
       "      <th>population_density</th>\n",
       "    </tr>\n",
       "  </thead>\n",
       "  <tbody>\n",
       "    <tr>\n",
       "      <th>0</th>\n",
       "      <td>USA</td>\n",
       "      <td>2002</td>\n",
       "      <td>October</td>\n",
       "      <td>Tuesday</td>\n",
       "      <td>Evening</td>\n",
       "      <td>Rural</td>\n",
       "      <td>Street</td>\n",
       "      <td>Windy</td>\n",
       "      <td>220.414651</td>\n",
       "      <td>1</td>\n",
       "      <td>...</td>\n",
       "      <td>2</td>\n",
       "      <td>58.625720</td>\n",
       "      <td>7412.752760</td>\n",
       "      <td>Wet</td>\n",
       "      <td>Weather</td>\n",
       "      <td>4</td>\n",
       "      <td>40499.856982</td>\n",
       "      <td>22072.878502</td>\n",
       "      <td>Europe</td>\n",
       "      <td>3866.273014</td>\n",
       "    </tr>\n",
       "    <tr>\n",
       "      <th>1</th>\n",
       "      <td>UK</td>\n",
       "      <td>2014</td>\n",
       "      <td>December</td>\n",
       "      <td>Saturday</td>\n",
       "      <td>Evening</td>\n",
       "      <td>Urban</td>\n",
       "      <td>Street</td>\n",
       "      <td>Windy</td>\n",
       "      <td>168.311358</td>\n",
       "      <td>3</td>\n",
       "      <td>...</td>\n",
       "      <td>1</td>\n",
       "      <td>58.041380</td>\n",
       "      <td>4458.628820</td>\n",
       "      <td>Snow-covered</td>\n",
       "      <td>Mechanical Failure</td>\n",
       "      <td>3</td>\n",
       "      <td>6486.600073</td>\n",
       "      <td>9534.399441</td>\n",
       "      <td>North America</td>\n",
       "      <td>2333.916224</td>\n",
       "    </tr>\n",
       "    <tr>\n",
       "      <th>2</th>\n",
       "      <td>USA</td>\n",
       "      <td>2012</td>\n",
       "      <td>July</td>\n",
       "      <td>Sunday</td>\n",
       "      <td>Afternoon</td>\n",
       "      <td>Urban</td>\n",
       "      <td>Highway</td>\n",
       "      <td>Snowy</td>\n",
       "      <td>341.286506</td>\n",
       "      <td>4</td>\n",
       "      <td>...</td>\n",
       "      <td>4</td>\n",
       "      <td>42.374452</td>\n",
       "      <td>9856.915064</td>\n",
       "      <td>Wet</td>\n",
       "      <td>Speeding</td>\n",
       "      <td>4</td>\n",
       "      <td>29164.412982</td>\n",
       "      <td>58009.145124</td>\n",
       "      <td>South America</td>\n",
       "      <td>4408.889129</td>\n",
       "    </tr>\n",
       "    <tr>\n",
       "      <th>3</th>\n",
       "      <td>UK</td>\n",
       "      <td>2017</td>\n",
       "      <td>May</td>\n",
       "      <td>Saturday</td>\n",
       "      <td>Evening</td>\n",
       "      <td>Urban</td>\n",
       "      <td>Main Road</td>\n",
       "      <td>Clear</td>\n",
       "      <td>489.384536</td>\n",
       "      <td>2</td>\n",
       "      <td>...</td>\n",
       "      <td>3</td>\n",
       "      <td>48.554014</td>\n",
       "      <td>4958.646267</td>\n",
       "      <td>Icy</td>\n",
       "      <td>Distracted Driving</td>\n",
       "      <td>3</td>\n",
       "      <td>25797.212566</td>\n",
       "      <td>20907.151302</td>\n",
       "      <td>Australia</td>\n",
       "      <td>2810.822423</td>\n",
       "    </tr>\n",
       "    <tr>\n",
       "      <th>4</th>\n",
       "      <td>Canada</td>\n",
       "      <td>2002</td>\n",
       "      <td>July</td>\n",
       "      <td>Tuesday</td>\n",
       "      <td>Afternoon</td>\n",
       "      <td>Rural</td>\n",
       "      <td>Highway</td>\n",
       "      <td>Rainy</td>\n",
       "      <td>348.344850</td>\n",
       "      <td>1</td>\n",
       "      <td>...</td>\n",
       "      <td>4</td>\n",
       "      <td>18.318250</td>\n",
       "      <td>3843.191463</td>\n",
       "      <td>Icy</td>\n",
       "      <td>Distracted Driving</td>\n",
       "      <td>8</td>\n",
       "      <td>15605.293921</td>\n",
       "      <td>13584.060759</td>\n",
       "      <td>South America</td>\n",
       "      <td>3883.645634</td>\n",
       "    </tr>\n",
       "  </tbody>\n",
       "</table>\n",
       "<p>5 rows × 30 columns</p>\n",
       "</div>"
      ],
      "text/plain": [
       "  country  year     month day_of_week time_of_day urban_rural  road_type  \\\n",
       "0     USA  2002   October     Tuesday     Evening       Rural     Street   \n",
       "1      UK  2014  December    Saturday     Evening       Urban     Street   \n",
       "2     USA  2012      July      Sunday   Afternoon       Urban    Highway   \n",
       "3      UK  2017       May    Saturday     Evening       Urban  Main Road   \n",
       "4  Canada  2002      July     Tuesday   Afternoon       Rural    Highway   \n",
       "\n",
       "  weather_conditions  visibility_level  number_of_vehicles_involved  ...  \\\n",
       "0              Windy        220.414651                            1  ...   \n",
       "1              Windy        168.311358                            3  ...   \n",
       "2              Snowy        341.286506                            4  ...   \n",
       "3              Clear        489.384536                            2  ...   \n",
       "4              Rainy        348.344850                            1  ...   \n",
       "\n",
       "   number_of_fatalities emergency_response_time traffic_volume  \\\n",
       "0                     2               58.625720    7412.752760   \n",
       "1                     1               58.041380    4458.628820   \n",
       "2                     4               42.374452    9856.915064   \n",
       "3                     3               48.554014    4958.646267   \n",
       "4                     4               18.318250    3843.191463   \n",
       "\n",
       "   road_condition      accident_cause insurance_claims  medical_cost  \\\n",
       "0             Wet             Weather                4  40499.856982   \n",
       "1    Snow-covered  Mechanical Failure                3   6486.600073   \n",
       "2             Wet            Speeding                4  29164.412982   \n",
       "3             Icy  Distracted Driving                3  25797.212566   \n",
       "4             Icy  Distracted Driving                8  15605.293921   \n",
       "\n",
       "   economic_loss         region  population_density  \n",
       "0   22072.878502         Europe         3866.273014  \n",
       "1    9534.399441  North America         2333.916224  \n",
       "2   58009.145124  South America         4408.889129  \n",
       "3   20907.151302      Australia         2810.822423  \n",
       "4   13584.060759  South America         3883.645634  \n",
       "\n",
       "[5 rows x 30 columns]"
      ]
     },
     "execution_count": 6,
     "metadata": {},
     "output_type": "execute_result"
    }
   ],
   "source": [
    "engine = get_connection()\n",
    "\n",
    "df = pd.read_sql_query(\"SELECT * FROM accidents\", engine)\n",
    "\n",
    "df.head()\n"
   ]
  },
  {
   "cell_type": "markdown",
   "metadata": {},
   "source": [
    "Se cierra la conexión a la base de datos para liberar recursos."
   ]
  },
  {
   "cell_type": "code",
   "execution_count": 7,
   "metadata": {},
   "outputs": [
    {
     "name": "stderr",
     "output_type": "stream",
     "text": [
      "2025-05-15 15:20:31,083 - INFO - 🔌 Conexión al engine cerrada correctamente.\n"
     ]
    }
   ],
   "source": [
    "close_connection(engine)"
   ]
  },
  {
   "cell_type": "markdown",
   "metadata": {},
   "source": [
    "# Transformación "
   ]
  },
  {
   "cell_type": "markdown",
   "metadata": {},
   "source": [
    "### Eliminación de columnas redundantes"
   ]
  },
  {
   "cell_type": "markdown",
   "metadata": {},
   "source": [
    "Este código utiliza la función `unique()` de Pandas para identificar y mostrar los valores únicos presentes en las columnas \"country\" y \"region\" del DataFrame `df`. Primero, imprime los valores únicos de la columna \"country\", seguido de un salto de línea y los valores únicos de la columna \"region\". Esto permite inspeccionar rápidamente las categorías o valores distintos presentes en estas columnas, lo cual es útil para comprender la distribución de los datos de estás columnas."
   ]
  },
  {
   "cell_type": "code",
   "execution_count": 8,
   "metadata": {},
   "outputs": [
    {
     "name": "stdout",
     "output_type": "stream",
     "text": [
      "Valores únicos en la columna 'country':\n",
      "['USA' 'UK' 'Canada' 'India' 'China' 'Japan' 'Russia' 'Brazil' 'Germany'\n",
      " 'Australia']\n",
      "\n",
      "Valores únicos en la columna 'region':\n",
      "['Europe' 'North America' 'South America' 'Australia' 'Asia']\n"
     ]
    }
   ],
   "source": [
    "print(\"Valores únicos en la columna 'country':\")\n",
    "print(df[\"country\"].unique())\n",
    "\n",
    "print(\"\\nValores únicos en la columna 'region':\")\n",
    "print(df[\"region\"].unique())"
   ]
  },
  {
   "cell_type": "code",
   "execution_count": 9,
   "metadata": {},
   "outputs": [],
   "source": [
    "df = df.drop(columns=[\"region\"])"
   ]
  },
  {
   "cell_type": "markdown",
   "metadata": {},
   "source": [
    "La columna \"region\" ha sido eliminada del dataset, ya que no aporta información relevante para los objetivos del proyecto. Dado que ya contamos con la columna \"country\", la cual especifica el país donde ocurrió cada accidente, la variable \"region\" se vuelve redundante. Además, el nivel de detalle que proporciona la columna de país es más preciso y útil para el análisis, mientras que la región o continente es una categorización más amplia que no aporta valor significativo a nuestro estudio. "
   ]
  },
  {
   "cell_type": "markdown",
   "metadata": {},
   "source": [
    "### Conformidad "
   ]
  },
  {
   "cell_type": "markdown",
   "metadata": {},
   "source": [
    "#### Número de cifras decimales"
   ]
  },
  {
   "cell_type": "markdown",
   "metadata": {},
   "source": [
    "El código examina las columnas con tipo de datos 'float' en DataFrame `df` determinando el número máximo de decimales presentes en cada columna para comprender la precisión de los datos. Luego, redondea todos los valores de estas columnas a dos decimales, simplificando los datos y mejorando su legibilidad para análisis y presentación."
   ]
  },
  {
   "cell_type": "code",
   "execution_count": 10,
   "metadata": {},
   "outputs": [
    {
     "name": "stdout",
     "output_type": "stream",
     "text": [
      "Número máximo de decimales en la columna 'visibility_level': 15\n",
      "Número máximo de decimales en la columna 'driver_alcohol_level': 20\n",
      "Número máximo de decimales en la columna 'emergency_response_time': 16\n",
      "Número máximo de decimales en la columna 'traffic_volume': 14\n",
      "Número máximo de decimales en la columna 'medical_cost': 14\n",
      "Número máximo de decimales en la columna 'economic_loss': 13\n",
      "Número máximo de decimales en la columna 'population_density': 15\n"
     ]
    }
   ],
   "source": [
    "columnas_float = df.select_dtypes(include=['float'])\n",
    "\n",
    "\n",
    "for col in columnas_float.columns:\n",
    "    max_decimales = columnas_float[col].astype(str).str.split('.').str[1].str.len().max()\n",
    "    print(f\"Número máximo de decimales en la columna '{col}': {max_decimales}\")\n"
   ]
  },
  {
   "cell_type": "code",
   "execution_count": 11,
   "metadata": {},
   "outputs": [
    {
     "name": "stdout",
     "output_type": "stream",
     "text": [
      "   visibility_level  driver_alcohol_level  emergency_response_time  \\\n",
      "0            220.41                  0.05                    58.63   \n",
      "1            168.31                  0.23                    58.04   \n",
      "2            341.29                  0.14                    42.37   \n",
      "3            489.38                  0.12                    48.55   \n",
      "4            348.34                  0.16                    18.32   \n",
      "\n",
      "   traffic_volume  medical_cost  economic_loss  population_density  \n",
      "0         7412.75      40499.86       22072.88             3866.27  \n",
      "1         4458.63       6486.60        9534.40             2333.92  \n",
      "2         9856.92      29164.41       58009.15             4408.89  \n",
      "3         4958.65      25797.21       20907.15             2810.82  \n",
      "4         3843.19      15605.29       13584.06             3883.65  \n"
     ]
    }
   ],
   "source": [
    "columnas_float_redondeadas = columnas_float.round(2)\n",
    "\n",
    "print(columnas_float_redondeadas.head())"
   ]
  },
  {
   "cell_type": "markdown",
   "metadata": {},
   "source": [
    "#### Valores de la columna 'driver_alcohol_level'"
   ]
  },
  {
   "cell_type": "markdown",
   "metadata": {},
   "source": [
    "Los niveles de alcohol en la sangre pueden ser agrupados en categorías significativas (Bajo, Moderado, Alto, etc.) que representan diferentes niveles de riesgo o impacto, en lugar de tratarse como simples valores continuos difíceles de interpretar para el público general. Para esto se utiliza el \"Binning\", que  implica convertir una variable numérica continua en una variable categórica ordinal al agrupar los valores en intervalos o \"bins\"."
   ]
  },
  {
   "cell_type": "markdown",
   "metadata": {},
   "source": [
    "Este código define una función llamada `categorizar_alcohol_level` que clasifica los niveles de alcohol en la sangre (driver_alcohol_level) en categorías como \"Bajo\", \"Moderado\", \"Alto\", \"Peligroso\" y \"Letal\", basándose en umbrales específicos. Luego, aplica esta función a la columna \"driver_alcohol_level\" del DataFrame `df` para crear una nueva columna llamada \"Alcohol_Level_Category\", que contiene las categorías correspondientes para cada valor de nivel de alcohol. Finalmente, imprime la columna \"Alcohol_Level_Category\" para mostrar las clasificaciones resultantes. "
   ]
  },
  {
   "cell_type": "code",
   "execution_count": 12,
   "metadata": {},
   "outputs": [
    {
     "name": "stdout",
     "output_type": "stream",
     "text": [
      "0          Moderado\n",
      "1         Peligroso\n",
      "2              Alto\n",
      "3              Alto\n",
      "4              Alto\n",
      "            ...    \n",
      "131995     Moderado\n",
      "131996     Moderado\n",
      "131997     Moderado\n",
      "131998         Bajo\n",
      "131999         Alto\n",
      "Name: driver_alcohol_level, Length: 132000, dtype: object\n"
     ]
    }
   ],
   "source": [
    "def categorizar_alcohol_level(driver_alcohol_level):\n",
    "    if driver_alcohol_level < 0.03:\n",
    "        return \"Bajo\"\n",
    "    elif driver_alcohol_level < 0.08:\n",
    "        return \"Moderado\"\n",
    "    elif driver_alcohol_level < 0.20:\n",
    "        return \"Alto\"\n",
    "    elif driver_alcohol_level < 0.30:\n",
    "        return \"Peligroso\"\n",
    "    else:\n",
    "        return \"Letal\"\n",
    "\n",
    "df[\"driver_alcohol_level\"] = df[\"driver_alcohol_level\"].apply(categorizar_alcohol_level)\n",
    "\n",
    "print(df[\"driver_alcohol_level\"])\n"
   ]
  },
  {
   "cell_type": "markdown",
   "metadata": {},
   "source": [
    "Esta conversión no solo optimiza la representación de los datos en visualizaciones, sino que también permite la identificación de patrones clave entre los niveles de alcohol y otros factores críticos, como la severidad de los accidentes o el número de víctimas. \n"
   ]
  },
  {
   "cell_type": "markdown",
   "metadata": {},
   "source": [
    "#### Valores de la columna 'visibility_level'"
   ]
  },
  {
   "cell_type": "markdown",
   "metadata": {},
   "source": [
    "La función `categorize_visibility` reemplaza la columna \"visibility_level\" por \"Visibility_Category\", la cual almacena la clasificación correspondiente para cada registro, pasando de un valor numérico a una categoría descriptiva: Muy Baja, Baja, Moderada o Alta. Esto permite transformar una variable numérica en categórica, facilitando la interpretación de los datos y su representación en visualizaciones.\n"
   ]
  },
  {
   "cell_type": "code",
   "execution_count": 13,
   "metadata": {},
   "outputs": [
    {
     "name": "stdout",
     "output_type": "stream",
     "text": [
      "0             Baja\n",
      "1         Muy Baja\n",
      "2         Moderada\n",
      "3             Alta\n",
      "4         Moderada\n",
      "            ...   \n",
      "131995    Moderada\n",
      "131996    Muy Baja\n",
      "131997    Muy Baja\n",
      "131998        Baja\n",
      "131999        Baja\n",
      "Name: visibility_level, Length: 132000, dtype: object\n"
     ]
    }
   ],
   "source": [
    "def categorize_visibility(visibility_level):\n",
    "    if visibility_level < 200:\n",
    "        return \"Muy Baja\"\n",
    "    elif visibility_level < 300:\n",
    "        return \"Baja\"\n",
    "    elif visibility_level < 400:\n",
    "        return \"Moderada\"\n",
    "    else:\n",
    "        return \"Alta\"\n",
    "\n",
    "df[\"visibility_level\"] = df[\"visibility_level\"].apply(categorize_visibility)\n",
    "\n",
    "print(df[\"visibility_level\"])"
   ]
  },
  {
   "cell_type": "markdown",
   "metadata": {},
   "source": [
    "#### Valores de \"days_order\", \"months_order\" y \"time_of_day\""
   ]
  },
  {
   "cell_type": "code",
   "execution_count": 14,
   "metadata": {},
   "outputs": [
    {
     "name": "stdout",
     "output_type": "stream",
     "text": [
      "\n",
      "Valores únicos en la columna 'time_of_day':\n",
      "['Evening' 'Afternoon' 'Night' 'Morning']\n"
     ]
    }
   ],
   "source": [
    "print(\"\\nValores únicos en la columna 'time_of_day':\")\n",
    "print(df[\"time_of_day\"].unique())"
   ]
  },
  {
   "cell_type": "markdown",
   "metadata": {},
   "source": [
    "Las columnas \"day_of_week\", \"month\" y \"time, of day\" son variables categóricas ordinales, lo que significa que las categorías tienen un orden lógico (los días de la semana y los meses del año tienen un orden específico).Al estructurar las variables con un orden definido, se facilita la representación gráfica en gráficos de tendencia o análisis estacionales, evitando errores en la disposición de los datos. Asimismo, esta verificación contribuye a la correcta interpretación de patrones temporales en la ocurrencia de accidentes, lo que puede ser clave para la toma de decisiones en seguridad vial y planificación de estrategias preventivas."
   ]
  },
  {
   "cell_type": "markdown",
   "metadata": {},
   "source": [
    "Este código transforma las columnas categóricas \"day_of_week\", \"month\" y \"time_of_day\" en un tipo de dato categórico ordenado en Pandas. Esto permite que el DataFrame conozca el orden lógico de los días de la semana, los meses del año, y el tiempo del día. Se utiliza `pd.Categorical directamente, que es más eficiente y conciso que pd.CategoricalDtype y .astype(). Además, se ha simplificado la impresión de los resultados, eliminando la necesidad de verificar si las columnas están ordenadas, ya que pd.Categorical con ordered=True garantiza que lo estén. Esto facilita el análisis de datos temporales donde el orden es crucial.\n"
   ]
  },
  {
   "cell_type": "code",
   "execution_count": 15,
   "metadata": {},
   "outputs": [
    {
     "name": "stdout",
     "output_type": "stream",
     "text": [
      "Día de semana (Categórico):\n",
      " 0     Tuesday\n",
      "1    Saturday\n",
      "2      Sunday\n",
      "3    Saturday\n",
      "4     Tuesday\n",
      "Name: day_of_week, dtype: category\n",
      "Categories (7, object): ['Monday' < 'Tuesday' < 'Wednesday' < 'Thursday' < 'Friday' < 'Saturday' < 'Sunday']\n",
      "\n",
      "Mes (Categórico):\n",
      " 0     October\n",
      "1    December\n",
      "2        July\n",
      "3         May\n",
      "4        July\n",
      "Name: month, dtype: category\n",
      "Categories (12, object): ['January' < 'February' < 'March' < 'April' ... 'September' < 'October' < 'November' < 'December']\n",
      "\n",
      "Tiempo del día (Categórico):\n",
      " 0      Evening\n",
      "1      Evening\n",
      "2    Afternoon\n",
      "3      Evening\n",
      "4    Afternoon\n",
      "Name: time_of_day, dtype: category\n",
      "Categories (4, object): ['Morning' < 'Afternoon' < 'Evening' < 'Night']\n"
     ]
    }
   ],
   "source": [
    "days_order = [\"Monday\", \"Tuesday\", \"Wednesday\", \"Thursday\", \"Friday\", \"Saturday\", \"Sunday\"]\n",
    "months_order = [\"January\", \"February\", \"March\", \"April\", \"May\", \"June\", \"July\", \"August\", \"September\", \"October\", \"November\", \"December\"]\n",
    "time_of_day_order = [\"Morning\", \"Afternoon\", \"Evening\", \"Night\"]\n",
    "\n",
    "\n",
    "df[\"day_of_week\"] = pd.Categorical(df[\"day_of_week\"], categories=days_order, ordered=True)\n",
    "df[\"month\"] = pd.Categorical(df[\"month\"], categories=months_order, ordered=True)\n",
    "df[\"time_of_day\"] = pd.Categorical(df[\"time_of_day\"], categories=time_of_day_order, ordered=True)\n",
    "\n",
    "print(\"Día de semana (Categórico):\\n\", df[\"day_of_week\"].head(5))\n",
    "print(\"\\nMes (Categórico):\\n\", df[\"month\"].head(5))\n",
    "print(\"\\nTiempo del día (Categórico):\\n\", df[\"time_of_day\"].head(5))\n"
   ]
  },
  {
   "cell_type": "markdown",
   "metadata": {},
   "source": [
    "#### Valores únicos de otras columnas con dtype String"
   ]
  },
  {
   "cell_type": "markdown",
   "metadata": {},
   "source": [
    "Con el el método `.unique()` de pandas se identifican y extraen los valores únicos presentes en las columnas driver_fatigue,vehicle_condition, accident_severity, road_type, weather_conditions, driver_gender y driver_age_group."
   ]
  },
  {
   "cell_type": "code",
   "execution_count": 16,
   "metadata": {},
   "outputs": [
    {
     "name": "stdout",
     "output_type": "stream",
     "text": [
      "\n",
      "Valores únicos en la columna 'driver_fatigue':\n",
      "[0 1]\n",
      "\n",
      "Valores únicos en la columna 'vehicle_condition':\n",
      "['Poor' 'Moderate' 'Good']\n",
      "\n",
      "Valores únicos en la columna 'accident_severity':\n",
      "['Moderate' 'Minor' 'Severe']\n",
      "\n",
      "Valores únicos en la columna 'road_type':\n",
      "['Street' 'Highway' 'Main Road']\n",
      "\n",
      "Valores únicos en la columna 'weather_conditions':\n",
      "['Windy' 'Snowy' 'Clear' 'Rainy' 'Foggy']\n",
      "\n",
      "Valores únicos en la columna 'driver_gender':\n",
      "['Male' 'Female']\n",
      "\n",
      "Valores únicos en la columna 'driver_age group':\n",
      "['18-25' '41-60' '26-40' '<18' '61+']\n"
     ]
    }
   ],
   "source": [
    "print(\"\\nValores únicos en la columna 'driver_fatigue':\")\n",
    "print(df[\"driver_fatigue\"].unique())\n",
    "\n",
    "print(\"\\nValores únicos en la columna 'vehicle_condition':\")\n",
    "print(df[\"vehicle_condition\"].unique())\n",
    "\n",
    "print(\"\\nValores únicos en la columna 'accident_severity':\")\n",
    "print(df[\"accident_severity\"].unique())\n",
    "\n",
    "print(\"\\nValores únicos en la columna 'road_type':\")\n",
    "print(df[\"road_type\"].unique())\n",
    "\n",
    "print(\"\\nValores únicos en la columna 'weather_conditions':\")\n",
    "print(df[\"weather_conditions\"].unique())\n",
    "\n",
    "print(\"\\nValores únicos en la columna 'driver_gender':\")\n",
    "print(df[\"driver_gender\"].unique())\n",
    "\n",
    "print(\"\\nValores únicos en la columna 'driver_age group':\")\n",
    "print(df[\"driver_age_group\"].unique())"
   ]
  },
  {
   "cell_type": "markdown",
   "metadata": {},
   "source": [
    "Si hubiera variaciones en la forma en que se representan los datos (por ejemplo, \"Male\", \"male\", \"M\"), sería necesario estandarizar los valores. En este caso no hay variaciones en la forma en que se representan los datos. Sin embargo, la columna \"driver_fatigue\" presenta valores binarios (0,1) por lo que es óptimo convertirla a dtype booleano usando `.astype(bool)`."
   ]
  },
  {
   "cell_type": "code",
   "execution_count": 17,
   "metadata": {},
   "outputs": [
    {
     "name": "stdout",
     "output_type": "stream",
     "text": [
      "0    False\n",
      "1     True\n",
      "2    False\n",
      "3     True\n",
      "4     True\n",
      "Name: driver_fatigue, dtype: bool\n"
     ]
    }
   ],
   "source": [
    "df[\"driver_fatigue\"] = df[\"driver_fatigue\"].astype(bool)\n",
    "\n",
    "print(df[\"driver_fatigue\"].head())"
   ]
  },
  {
   "cell_type": "code",
   "execution_count": 18,
   "metadata": {},
   "outputs": [
    {
     "data": {
      "text/plain": [
       "Index(['country', 'year', 'month', 'day_of_week', 'time_of_day', 'urban_rural',\n",
       "       'road_type', 'weather_conditions', 'visibility_level',\n",
       "       'number_of_vehicles_involved', 'speed_limit', 'driver_age_group',\n",
       "       'driver_gender', 'driver_alcohol_level', 'driver_fatigue',\n",
       "       'vehicle_condition', 'pedestrians_involved', 'cyclists_involved',\n",
       "       'accident_severity', 'number_of_injuries', 'number_of_fatalities',\n",
       "       'emergency_response_time', 'traffic_volume', 'road_condition',\n",
       "       'accident_cause', 'insurance_claims', 'medical_cost', 'economic_loss',\n",
       "       'population_density'],\n",
       "      dtype='object')"
      ]
     },
     "execution_count": 18,
     "metadata": {},
     "output_type": "execute_result"
    }
   ],
   "source": [
    "df.columns"
   ]
  },
  {
   "cell_type": "markdown",
   "metadata": {},
   "source": [
    "# Carga"
   ]
  },
  {
   "cell_type": "code",
   "execution_count": 19,
   "metadata": {},
   "outputs": [
    {
     "name": "stderr",
     "output_type": "stream",
     "text": [
      "2025-05-15 15:20:33,527 - INFO - ✅ Conexión a la base de datos 'gra' creada exitosamente.\n"
     ]
    }
   ],
   "source": [
    "engine = get_connection()"
   ]
  },
  {
   "cell_type": "code",
   "execution_count": 20,
   "metadata": {},
   "outputs": [
    {
     "name": "stdout",
     "output_type": "stream",
     "text": [
      "Datos guardados exitosamente en la tabla 'accidents_clean'\n"
     ]
    }
   ],
   "source": [
    "try:\n",
    "    df.to_sql('accidents_clean', engine, if_exists='replace', index=False)\n",
    "    print(\"Datos guardados exitosamente en la tabla 'accidents_clean'\")\n",
    "except Exception as e:\n",
    "    print(f\"Error al guardar los datos: {e}\")"
   ]
  },
  {
   "cell_type": "code",
   "execution_count": 21,
   "metadata": {},
   "outputs": [
    {
     "name": "stderr",
     "output_type": "stream",
     "text": [
      "2025-05-15 15:20:49,237 - INFO - 🔌 Conexión al engine cerrada correctamente.\n"
     ]
    }
   ],
   "source": [
    "close_connection(engine)"
   ]
  }
 ],
 "metadata": {
  "kernelspec": {
   "display_name": "Python (proy)",
   "language": "python",
   "name": "proy"
  },
  "language_info": {
   "codemirror_mode": {
    "name": "ipython",
    "version": 3
   },
   "file_extension": ".py",
   "mimetype": "text/x-python",
   "name": "python",
   "nbconvert_exporter": "python",
   "pygments_lexer": "ipython3",
   "version": "3.12.3"
  }
 },
 "nbformat": 4,
 "nbformat_minor": 2
}
