{
 "cells": [
  {
   "cell_type": "markdown",
   "metadata": {},
   "source": [
    "## EDA"
   ]
  },
  {
   "cell_type": "code",
   "execution_count": 6,
   "metadata": {},
   "outputs": [],
   "source": [
    "import sys\n",
    "import os\n",
    "import pandas as pd\n",
    "from psycopg2 import sql\n",
    "from sqlalchemy import create_engine"
   ]
  },
  {
   "cell_type": "code",
   "execution_count": 7,
   "metadata": {},
   "outputs": [
    {
     "name": "stdout",
     "output_type": "stream",
     "text": [
      "Conexión exitosa\n"
     ]
    }
   ],
   "source": [
    "# Add the 'src' directory to the PYTHONPATH\n",
    "sys.path.append(os.path.abspath('../source'))\n",
    "\n",
    "from connection_db.db_utils import get_connection\n",
    "\n",
    "conn = get_connection()"
   ]
  },
  {
   "cell_type": "code",
   "execution_count": 32,
   "metadata": {},
   "outputs": [
    {
     "name": "stderr",
     "output_type": "stream",
     "text": [
      "C:\\Users\\ASUS\\AppData\\Local\\Temp\\ipykernel_16904\\4275037987.py:1: UserWarning: pandas only supports SQLAlchemy connectable (engine/connection) or database string URI or sqlite3 DBAPI2 connection. Other DBAPI2 objects are not tested. Please consider using SQLAlchemy.\n",
      "  df = pd.read_sql_query(\"SELECT * FROM accidents\", conn)\n"
     ]
    },
    {
     "name": "stdout",
     "output_type": "stream",
     "text": [
      "   id country  year     month day_of_week time_of_day urban_rural  road_type  \\\n",
      "0   1     USA  2002   October     Tuesday     Evening       Rural     Street   \n",
      "1   2      UK  2014  December    Saturday     Evening       Urban     Street   \n",
      "2   3     USA  2012      July      Sunday   Afternoon       Urban    Highway   \n",
      "3   4      UK  2017       May    Saturday     Evening       Urban  Main Road   \n",
      "4   5  Canada  2002      July     Tuesday   Afternoon       Rural    Highway   \n",
      "\n",
      "  weather_conditions  visibility_level  ...  number_of_fatalities  \\\n",
      "0              Windy        220.414651  ...                     2   \n",
      "1              Windy        168.311358  ...                     1   \n",
      "2              Snowy        341.286506  ...                     4   \n",
      "3              Clear        489.384536  ...                     3   \n",
      "4              Rainy        348.344850  ...                     4   \n",
      "\n",
      "   emergency_response_time traffic_volume road_condition      accident_cause  \\\n",
      "0                58.625720    7412.752760            Wet             Weather   \n",
      "1                58.041380    4458.628820   Snow-covered  Mechanical Failure   \n",
      "2                42.374452    9856.915064            Wet            Speeding   \n",
      "3                48.554014    4958.646267            Icy  Distracted Driving   \n",
      "4                18.318250    3843.191463            Icy  Distracted Driving   \n",
      "\n",
      "   insurance_claims  medical_cost  economic_loss         region  \\\n",
      "0                 4  40499.856982   22072.878502         Europe   \n",
      "1                 3   6486.600073    9534.399441  North America   \n",
      "2                 4  29164.412982   58009.145124  South America   \n",
      "3                 3  25797.212566   20907.151302      Australia   \n",
      "4                 8  15605.293921   13584.060759  South America   \n",
      "\n",
      "  population_density  \n",
      "0        3866.273014  \n",
      "1        2333.916224  \n",
      "2        4408.889129  \n",
      "3        2810.822423  \n",
      "4        3883.645634  \n",
      "\n",
      "[5 rows x 31 columns]\n"
     ]
    }
   ],
   "source": [
    "df = pd.read_sql_query(\"SELECT * FROM accidents\", conn)\n",
    "print(df.head())"
   ]
  },
  {
   "cell_type": "markdown",
   "metadata": {},
   "source": [
    "### Datos faltantes"
   ]
  },
  {
   "cell_type": "code",
   "execution_count": 30,
   "metadata": {},
   "outputs": [
    {
     "name": "stdout",
     "output_type": "stream",
     "text": [
      "\n",
      " Datos nulos no encontrados. \n"
     ]
    }
   ],
   "source": [
    "datos_faltantes = df.isnull().sum().sum()\n",
    "\n",
    "if datos_faltantes == 0:\n",
    "    print(\"\\n Datos nulos no encontrados. \")\n",
    "else:\n",
    "    print(df[df.isnull().sum()])\n"
   ]
  },
  {
   "cell_type": "markdown",
   "metadata": {},
   "source": [
    "### Datos duplicados"
   ]
  },
  {
   "cell_type": "code",
   "execution_count": 31,
   "metadata": {},
   "outputs": [
    {
     "name": "stdout",
     "output_type": "stream",
     "text": [
      "\n",
      " Total de filas duplicadas: 0\n"
     ]
    }
   ],
   "source": [
    "#Total de duplicados\n",
    "duplicados=df.duplicated()\n",
    "total_duplicados= duplicados.sum()\n",
    "\n",
    "print(f\"\\n Total de filas duplicadas: {total_duplicados}\")\n",
    "\n",
    "#Mostrar filas duplicadas \n",
    "if total_duplicados > 0:\n",
    "    print(\"\\n Filas duplicadas encontradas: \")\n",
    "    print(df[df.duplicated()])\n",
    "\n"
   ]
  },
  {
   "cell_type": "code",
   "execution_count": null,
   "metadata": {},
   "outputs": [
    {
     "name": "stdout",
     "output_type": "stream",
     "text": [
      "0               USA\n",
      "1                UK\n",
      "2               USA\n",
      "3                UK\n",
      "4            Canada\n",
      "            ...    \n",
      "131995      Germany\n",
      "131996       Brazil\n",
      "131997       Russia\n",
      "131998    Australia\n",
      "131999          USA\n",
      "Name: country, Length: 132000, dtype: object\n",
      "0                Europe\n",
      "1         North America\n",
      "2         South America\n",
      "3             Australia\n",
      "4         South America\n",
      "              ...      \n",
      "131995             Asia\n",
      "131996             Asia\n",
      "131997             Asia\n",
      "131998           Europe\n",
      "131999             Asia\n",
      "Name: region, Length: 132000, dtype: object\n"
     ]
    }
   ],
   "source": [
    "#Valores de país\n",
    "print(df[\"country\"])\n",
    "\n",
    "#Valores de región\n",
    "print(df[\"region\"])"
   ]
  },
  {
   "cell_type": "code",
   "execution_count": 27,
   "metadata": {},
   "outputs": [],
   "source": [
    "df = df.drop(columns=[\"region\"])"
   ]
  },
  {
   "cell_type": "code",
   "execution_count": 35,
   "metadata": {},
   "outputs": [
    {
     "name": "stdout",
     "output_type": "stream",
     "text": [
      "id                               int64\n",
      "country                         object\n",
      "year                             int64\n",
      "month                           object\n",
      "day_of_week                     object\n",
      "time_of_day                     object\n",
      "urban_rural                     object\n",
      "road_type                       object\n",
      "weather_conditions              object\n",
      "visibility_level               float64\n",
      "number_of_vehicles_involved      int64\n",
      "speed_limit                      int64\n",
      "driver_age_group                object\n",
      "driver_gender                   object\n",
      "driver_alcohol_level           float64\n",
      "driver_fatigue                   int64\n",
      "vehicle_condition               object\n",
      "pedestrians_involved             int64\n",
      "cyclists_involved                int64\n",
      "accident_severity               object\n",
      "number_of_injuries               int64\n",
      "number_of_fatalities             int64\n",
      "emergency_response_time        float64\n",
      "traffic_volume                 float64\n",
      "road_condition                  object\n",
      "accident_cause                  object\n",
      "insurance_claims                 int64\n",
      "medical_cost                   float64\n",
      "economic_loss                  float64\n",
      "region                          object\n",
      "population_density             float64\n",
      "dtype: object\n"
     ]
    }
   ],
   "source": [
    "print(df.dtypes)\n"
   ]
  },
  {
   "cell_type": "code",
   "execution_count": 37,
   "metadata": {},
   "outputs": [
    {
     "name": "stdout",
     "output_type": "stream",
     "text": [
      "   visibility_level  driver_alcohol_level  emergency_response_time  \\\n",
      "0            220.41                  0.05                    58.63   \n",
      "1            168.31                  0.23                    58.04   \n",
      "2            341.29                  0.14                    42.37   \n",
      "3            489.38                  0.12                    48.55   \n",
      "4            348.34                  0.16                    18.32   \n",
      "\n",
      "   traffic_volume  medical_cost  economic_loss  population_density  \n",
      "0         7412.75      40499.86       22072.88             3866.27  \n",
      "1         4458.63       6486.60        9534.40             2333.92  \n",
      "2         9856.92      29164.41       58009.15             4408.89  \n",
      "3         4958.65      25797.21       20907.15             2810.82  \n",
      "4         3843.19      15605.29       13584.06             3883.65  \n"
     ]
    }
   ],
   "source": [
    "\n",
    "columnas_float = df.select_dtypes(include=['float'])\n",
    "\n",
    "columnas_float_redondeadas = columnas_float.round(2)\n",
    "\n",
    "print(columnas_float_redondeadas.head())"
   ]
  },
  {
   "cell_type": "markdown",
   "metadata": {},
   "source": [
    "¿en qué moneda están las perdidas y el costo médico?"
   ]
  },
  {
   "cell_type": "code",
   "execution_count": 29,
   "metadata": {},
   "outputs": [
    {
     "name": "stdout",
     "output_type": "stream",
     "text": [
      "Index(['id', 'country', 'year', 'month', 'day_of_week', 'time_of_day',\n",
      "       'urban_rural', 'road_type', 'weather_conditions', 'visibility_level',\n",
      "       'number_of_vehicles_involved', 'speed_limit', 'driver_age_group',\n",
      "       'driver_gender', 'driver_alcohol_level', 'driver_fatigue',\n",
      "       'vehicle_condition', 'pedestrians_involved', 'cyclists_involved',\n",
      "       'accident_severity', 'number_of_injuries', 'number_of_fatalities',\n",
      "       'emergency_response_time', 'traffic_volume', 'road_condition',\n",
      "       'accident_cause', 'insurance_claims', 'medical_cost', 'economic_loss',\n",
      "       'population_density'],\n",
      "      dtype='object')\n"
     ]
    }
   ],
   "source": [
    "print(df.columns)"
   ]
  },
  {
   "cell_type": "markdown",
   "metadata": {},
   "source": [
    "El análisis exploratorio de datos debería dar respuestas (al menos) a lo siguiente:\n",
    "\n",
    "¿Qué pregunta(s) estás tratando de resolver (o probar que estás equivocado)?\n",
    "\n",
    "¿Qué tipo de datos tiene y cómo trata los diferentes tipos?\n",
    "\n",
    "¿Qué falta en los datos y cómo los maneja?\n",
    "\n",
    "¿Qué hacer con los datos faltantes, outliers o información mal inputada?\n",
    "\n",
    "¿Se puede sacar más provecho a los datos ?\n",
    "\n"
   ]
  }
 ],
 "metadata": {
  "kernelspec": {
   "display_name": "Python 3",
   "language": "python",
   "name": "python3"
  },
  "language_info": {
   "codemirror_mode": {
    "name": "ipython",
    "version": 3
   },
   "file_extension": ".py",
   "mimetype": "text/x-python",
   "name": "python",
   "nbconvert_exporter": "python",
   "pygments_lexer": "ipython3",
   "version": "3.13.2"
  }
 },
 "nbformat": 4,
 "nbformat_minor": 2
}
