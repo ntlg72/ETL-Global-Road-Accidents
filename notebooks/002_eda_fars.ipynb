{
 "cells": [
  {
   "cell_type": "markdown",
   "id": "9f2e2e3f",
   "metadata": {},
   "source": [
    "# EDA API"
   ]
  },
  {
   "cell_type": "markdown",
   "id": "4633e961",
   "metadata": {},
   "source": [
    "### Importación de librerías"
   ]
  },
  {
   "cell_type": "code",
   "execution_count": 1,
   "id": "eb8ab248",
   "metadata": {},
   "outputs": [],
   "source": [
    "import sys\n",
    "import os\n",
    "import requests\n",
    "import pandas as pd\n",
    "import numpy as np\n",
    "from datetime import datetime, time\n",
    "import seaborn as sns\n",
    "import matplotlib.pyplot as plt\n",
    "import math\n",
    "sys.path.append(os.path.abspath('../source'))\n"
   ]
  },
  {
   "cell_type": "markdown",
   "id": "12879588",
   "metadata": {},
   "source": [
    "### Descarga de Datos de Accidentes FARS desde la API de NHTSA"
   ]
  },
  {
   "cell_type": "code",
   "execution_count": 2,
   "id": "81bab446",
   "metadata": {},
   "outputs": [
    {
     "data": {
      "text/plain": [
       "'\\nbase_url = \"https://crashviewer.nhtsa.dot.gov/CrashAPI/FARSData/GetFARSData\"\\n\\n# Encabezados\\nheaders = {\\n    \"Accept\": \"text/csv\", \\n    \"User-Agent\": \"Mozilla/5.0 (Windows NT 10.0; Win64; x64)\"\\n}\\n\\n\\noutput_dir = \"../data\"\\nos.makedirs(output_dir, exist_ok=True)\\n\\n\\nfor year in range(2017, 2023):  \\n\\n    url = f\"{base_url}?dataset=Accident&FromYear={year}&ToYear={year}&State=*&format=csv\"\\n    print(f\"Descargando datos para el año {year}...\")\\n\\n    try:\\n        # Realizar la solicitud al API\\n        response = requests.get(url, headers=headers, timeout=600, stream=True)  # Timeout de 10 minutos\\n\\n        # Verificar si la solicitud fue exitosa\\n        if response.status_code == 200:\\n            # Guardar los datos en el archivo CSV\\n            output_file = os.path.join(output_dir, f\"FARS_data_{year}.csv\")\\n            with open(output_file, \"wb\") as file:\\n                for chunk in response.iter_content(chunk_size=1024):\\n                    if chunk:\\n                        file.write(chunk)\\n            print(f\"Datos del año {year} guardados exitosamente en {output_file}\")\\n        else:\\n            print(f\"Error al obtener los datos para el año {year}: Código HTTP {response.status_code}\")\\n            print(response.text)\\n\\n    except requests.exceptions.Timeout:\\n        print(f\"La solicitud para el año {year} excedió el tiempo límite.\")\\n    except requests.exceptions.RequestException as e:\\n        print(f\"Error en la solicitud para el año {year}: {e}\")\\n'"
      ]
     },
     "execution_count": 2,
     "metadata": {},
     "output_type": "execute_result"
    }
   ],
   "source": [
    "'''\n",
    "base_url = \"https://crashviewer.nhtsa.dot.gov/CrashAPI/FARSData/GetFARSData\"\n",
    "\n",
    "# Encabezados\n",
    "headers = {\n",
    "    \"Accept\": \"text/csv\", \n",
    "    \"User-Agent\": \"Mozilla/5.0 (Windows NT 10.0; Win64; x64)\"\n",
    "}\n",
    "\n",
    "\n",
    "output_dir = \"../data\"\n",
    "os.makedirs(output_dir, exist_ok=True)\n",
    "\n",
    "\n",
    "for year in range(2017, 2023):  \n",
    "\n",
    "    url = f\"{base_url}?dataset=Accident&FromYear={year}&ToYear={year}&State=*&format=csv\"\n",
    "    print(f\"Descargando datos para el año {year}...\")\n",
    "\n",
    "    try:\n",
    "        # Realizar la solicitud al API\n",
    "        response = requests.get(url, headers=headers, timeout=600, stream=True)  # Timeout de 10 minutos\n",
    "\n",
    "        # Verificar si la solicitud fue exitosa\n",
    "        if response.status_code == 200:\n",
    "            # Guardar los datos en el archivo CSV\n",
    "            output_file = os.path.join(output_dir, f\"FARS_data_{year}.csv\")\n",
    "            with open(output_file, \"wb\") as file:\n",
    "                for chunk in response.iter_content(chunk_size=1024):\n",
    "                    if chunk:\n",
    "                        file.write(chunk)\n",
    "            print(f\"Datos del año {year} guardados exitosamente en {output_file}\")\n",
    "        else:\n",
    "            print(f\"Error al obtener los datos para el año {year}: Código HTTP {response.status_code}\")\n",
    "            print(response.text)\n",
    "\n",
    "    except requests.exceptions.Timeout:\n",
    "        print(f\"La solicitud para el año {year} excedió el tiempo límite.\")\n",
    "    except requests.exceptions.RequestException as e:\n",
    "        print(f\"Error en la solicitud para el año {year}: {e}\")\n",
    "'''"
   ]
  },
  {
   "cell_type": "code",
   "execution_count": 3,
   "id": "0cf713d1",
   "metadata": {},
   "outputs": [
    {
     "data": {
      "text/plain": [
       "'\\nbase_url = \"https://crashviewer.nhtsa.dot.gov/CrashAPI/FARSData/GetFARSData\"\\n\\n# Encabezados\\nheaders = {\\n    \"Accept\": \"text/csv\", \\n    \"User-Agent\": \"Mozilla/5.0 (Windows NT 10.0; Win64; x64)\"\\n}\\n\\noutput_dir = \"../data\"\\nos.makedirs(output_dir, exist_ok=True)\\n\\nfor year in range(2017, 2023):  \\n\\n    url = f\"{base_url}?dataset=Person&FromYear={year}&ToYear={year}&State=*&format=csv\"\\n    print(f\"Descargando datos para el año {year}...\")\\n\\n    try:\\n        # Realizar la solicitud al API\\n        response = requests.get(url, headers=headers, timeout=600, stream=True)  # Timeout de 10 minutos\\n\\n        # Verificar si la solicitud fue exitosa\\n        if response.status_code == 200:\\n            # Guardar los datos en el archivo CSV\\n            output_file = os.path.join(output_dir, f\"FARS_person_{year}.csv\")\\n            with open(output_file, \"wb\") as file:\\n                for chunk in response.iter_content(chunk_size=1024):\\n                    if chunk:\\n                        file.write(chunk)\\n            print(f\"Datos del año {year} guardados exitosamente en {output_file}\")\\n        else:\\n            print(f\"Error al obtener los datos para el año {year}: Código HTTP {response.status_code}\")\\n            print(response.text)\\n\\n    except requests.exceptions.Timeout:\\n        print(f\"La solicitud para el año {year} excedió el tiempo límite.\")\\n    except requests.exceptions.RequestException as e:\\n        print(f\"Error en la solicitud para el año {year}: {e}\")\\n'"
      ]
     },
     "execution_count": 3,
     "metadata": {},
     "output_type": "execute_result"
    }
   ],
   "source": [
    "'''\n",
    "base_url = \"https://crashviewer.nhtsa.dot.gov/CrashAPI/FARSData/GetFARSData\"\n",
    "\n",
    "# Encabezados\n",
    "headers = {\n",
    "    \"Accept\": \"text/csv\", \n",
    "    \"User-Agent\": \"Mozilla/5.0 (Windows NT 10.0; Win64; x64)\"\n",
    "}\n",
    "\n",
    "output_dir = \"../data\"\n",
    "os.makedirs(output_dir, exist_ok=True)\n",
    "\n",
    "for year in range(2017, 2023):  \n",
    "    \n",
    "    url = f\"{base_url}?dataset=Person&FromYear={year}&ToYear={year}&State=*&format=csv\"\n",
    "    print(f\"Descargando datos para el año {year}...\")\n",
    "\n",
    "    try:\n",
    "        # Realizar la solicitud al API\n",
    "        response = requests.get(url, headers=headers, timeout=600, stream=True)  # Timeout de 10 minutos\n",
    "\n",
    "        # Verificar si la solicitud fue exitosa\n",
    "        if response.status_code == 200:\n",
    "            # Guardar los datos en el archivo CSV\n",
    "            output_file = os.path.join(output_dir, f\"FARS_person_{year}.csv\")\n",
    "            with open(output_file, \"wb\") as file:\n",
    "                for chunk in response.iter_content(chunk_size=1024):\n",
    "                    if chunk:\n",
    "                        file.write(chunk)\n",
    "            print(f\"Datos del año {year} guardados exitosamente en {output_file}\")\n",
    "        else:\n",
    "            print(f\"Error al obtener los datos para el año {year}: Código HTTP {response.status_code}\")\n",
    "            print(response.text)\n",
    "\n",
    "    except requests.exceptions.Timeout:\n",
    "        print(f\"La solicitud para el año {year} excedió el tiempo límite.\")\n",
    "    except requests.exceptions.RequestException as e:\n",
    "        print(f\"Error en la solicitud para el año {year}: {e}\")\n",
    "'''"
   ]
  },
  {
   "cell_type": "markdown",
   "id": "1d1a0442",
   "metadata": {},
   "source": [
    "#### Carga de Datos de Accidentes FARS desde Archivos CSV"
   ]
  },
  {
   "cell_type": "code",
   "execution_count": 4,
   "id": "b7e11a17",
   "metadata": {},
   "outputs": [
    {
     "name": "stderr",
     "output_type": "stream",
     "text": [
      "C:\\Users\\ntlg2\\AppData\\Local\\Temp\\ipykernel_27764\\1353280254.py:10: DtypeWarning: Columns (41,43) have mixed types. Specify dtype option on import or set low_memory=False.\n",
      "  df = pd.read_csv(file_path)\n"
     ]
    },
    {
     "data": {
      "text/html": [
       "<div>\n",
       "<style scoped>\n",
       "    .dataframe tbody tr th:only-of-type {\n",
       "        vertical-align: middle;\n",
       "    }\n",
       "\n",
       "    .dataframe tbody tr th {\n",
       "        vertical-align: top;\n",
       "    }\n",
       "\n",
       "    .dataframe thead th {\n",
       "        text-align: right;\n",
       "    }\n",
       "</style>\n",
       "<table border=\"1\" class=\"dataframe\">\n",
       "  <thead>\n",
       "    <tr style=\"text-align: right;\">\n",
       "      <th></th>\n",
       "      <th>caseyear</th>\n",
       "      <th>state</th>\n",
       "      <th>st_case</th>\n",
       "      <th>statename</th>\n",
       "      <th>ve_total</th>\n",
       "      <th>ve_forms</th>\n",
       "      <th>pvh_invl</th>\n",
       "      <th>peds</th>\n",
       "      <th>pernotmvit</th>\n",
       "      <th>permvit</th>\n",
       "      <th>...</th>\n",
       "      <th>hosp_mnname</th>\n",
       "      <th>cf1</th>\n",
       "      <th>cf1name</th>\n",
       "      <th>cf2</th>\n",
       "      <th>cf2name</th>\n",
       "      <th>cf3</th>\n",
       "      <th>cf3name</th>\n",
       "      <th>fatals</th>\n",
       "      <th>drunk_dr</th>\n",
       "      <th>Year</th>\n",
       "    </tr>\n",
       "  </thead>\n",
       "  <tbody>\n",
       "    <tr>\n",
       "      <th>0</th>\n",
       "      <td>2017</td>\n",
       "      <td>1</td>\n",
       "      <td>10001</td>\n",
       "      <td>Alabama</td>\n",
       "      <td>1</td>\n",
       "      <td>1</td>\n",
       "      <td>0</td>\n",
       "      <td>0</td>\n",
       "      <td>0</td>\n",
       "      <td>1</td>\n",
       "      <td>...</td>\n",
       "      <td>Not Applicable (Not Transported)</td>\n",
       "      <td>0.0</td>\n",
       "      <td>NaN</td>\n",
       "      <td>0.0</td>\n",
       "      <td>NaN</td>\n",
       "      <td>0.0</td>\n",
       "      <td>NaN</td>\n",
       "      <td>1</td>\n",
       "      <td>0.0</td>\n",
       "      <td>2017</td>\n",
       "    </tr>\n",
       "    <tr>\n",
       "      <th>1</th>\n",
       "      <td>2017</td>\n",
       "      <td>1</td>\n",
       "      <td>10002</td>\n",
       "      <td>Alabama</td>\n",
       "      <td>1</td>\n",
       "      <td>1</td>\n",
       "      <td>0</td>\n",
       "      <td>0</td>\n",
       "      <td>0</td>\n",
       "      <td>1</td>\n",
       "      <td>...</td>\n",
       "      <td>Not Applicable (Not Transported)</td>\n",
       "      <td>0.0</td>\n",
       "      <td>NaN</td>\n",
       "      <td>0.0</td>\n",
       "      <td>NaN</td>\n",
       "      <td>0.0</td>\n",
       "      <td>NaN</td>\n",
       "      <td>1</td>\n",
       "      <td>0.0</td>\n",
       "      <td>2017</td>\n",
       "    </tr>\n",
       "    <tr>\n",
       "      <th>2</th>\n",
       "      <td>2017</td>\n",
       "      <td>1</td>\n",
       "      <td>10003</td>\n",
       "      <td>Alabama</td>\n",
       "      <td>3</td>\n",
       "      <td>3</td>\n",
       "      <td>0</td>\n",
       "      <td>0</td>\n",
       "      <td>0</td>\n",
       "      <td>3</td>\n",
       "      <td>...</td>\n",
       "      <td>Not Applicable (Not Transported)</td>\n",
       "      <td>0.0</td>\n",
       "      <td>NaN</td>\n",
       "      <td>0.0</td>\n",
       "      <td>NaN</td>\n",
       "      <td>0.0</td>\n",
       "      <td>NaN</td>\n",
       "      <td>1</td>\n",
       "      <td>0.0</td>\n",
       "      <td>2017</td>\n",
       "    </tr>\n",
       "    <tr>\n",
       "      <th>3</th>\n",
       "      <td>2017</td>\n",
       "      <td>1</td>\n",
       "      <td>10004</td>\n",
       "      <td>Alabama</td>\n",
       "      <td>1</td>\n",
       "      <td>1</td>\n",
       "      <td>0</td>\n",
       "      <td>0</td>\n",
       "      <td>0</td>\n",
       "      <td>1</td>\n",
       "      <td>...</td>\n",
       "      <td>Not Applicable (Not Transported)</td>\n",
       "      <td>20.0</td>\n",
       "      <td>Police Pursuit Involved</td>\n",
       "      <td>0.0</td>\n",
       "      <td>NaN</td>\n",
       "      <td>0.0</td>\n",
       "      <td>NaN</td>\n",
       "      <td>1</td>\n",
       "      <td>0.0</td>\n",
       "      <td>2017</td>\n",
       "    </tr>\n",
       "    <tr>\n",
       "      <th>4</th>\n",
       "      <td>2017</td>\n",
       "      <td>1</td>\n",
       "      <td>10005</td>\n",
       "      <td>Alabama</td>\n",
       "      <td>1</td>\n",
       "      <td>1</td>\n",
       "      <td>0</td>\n",
       "      <td>0</td>\n",
       "      <td>0</td>\n",
       "      <td>2</td>\n",
       "      <td>...</td>\n",
       "      <td>11</td>\n",
       "      <td>0.0</td>\n",
       "      <td>NaN</td>\n",
       "      <td>0.0</td>\n",
       "      <td>NaN</td>\n",
       "      <td>0.0</td>\n",
       "      <td>NaN</td>\n",
       "      <td>1</td>\n",
       "      <td>0.0</td>\n",
       "      <td>2017</td>\n",
       "    </tr>\n",
       "  </tbody>\n",
       "</table>\n",
       "<p>5 rows × 95 columns</p>\n",
       "</div>"
      ],
      "text/plain": [
       "   caseyear  state  st_case statename  ve_total  ve_forms  pvh_invl  peds  \\\n",
       "0      2017      1    10001   Alabama         1         1         0     0   \n",
       "1      2017      1    10002   Alabama         1         1         0     0   \n",
       "2      2017      1    10003   Alabama         3         3         0     0   \n",
       "3      2017      1    10004   Alabama         1         1         0     0   \n",
       "4      2017      1    10005   Alabama         1         1         0     0   \n",
       "\n",
       "   pernotmvit  permvit  ...                       hosp_mnname   cf1  \\\n",
       "0           0        1  ...  Not Applicable (Not Transported)   0.0   \n",
       "1           0        1  ...  Not Applicable (Not Transported)   0.0   \n",
       "2           0        3  ...  Not Applicable (Not Transported)   0.0   \n",
       "3           0        1  ...  Not Applicable (Not Transported)  20.0   \n",
       "4           0        2  ...                                11   0.0   \n",
       "\n",
       "                   cf1name  cf2 cf2name  cf3  cf3name  fatals drunk_dr  Year  \n",
       "0                      NaN  0.0     NaN  0.0      NaN       1      0.0  2017  \n",
       "1                      NaN  0.0     NaN  0.0      NaN       1      0.0  2017  \n",
       "2                      NaN  0.0     NaN  0.0      NaN       1      0.0  2017  \n",
       "3  Police Pursuit Involved  0.0     NaN  0.0      NaN       1      0.0  2017  \n",
       "4                      NaN  0.0     NaN  0.0      NaN       1      0.0  2017  \n",
       "\n",
       "[5 rows x 95 columns]"
      ]
     },
     "execution_count": 4,
     "metadata": {},
     "output_type": "execute_result"
    }
   ],
   "source": [
    "# Definir los años a procesar\n",
    "years = range(2017, 2023)  # Desde 2017 hasta 2022\n",
    "\n",
    "# Lista para almacenar DataFrames\n",
    "dataframes = []\n",
    "\n",
    "# Cargar archivos en un ciclo\n",
    "for year in years:\n",
    "    file_path = f'../data/FARS_data_{year}.csv'  # Ajusta el path si es necesario\n",
    "    df = pd.read_csv(file_path)\n",
    "    df[\"Year\"] = year  # Agregar la columna de año para referencia\n",
    "    dataframes.append(df)\n",
    "\n",
    "# Concatenar todos los DataFrames en uno solo\n",
    "accidents = pd.concat(dataframes, ignore_index=True)\n",
    "\n",
    "# Ver los primeros registros\n",
    "accidents.head()"
   ]
  },
  {
   "cell_type": "code",
   "execution_count": 5,
   "id": "313541c9",
   "metadata": {},
   "outputs": [
    {
     "name": "stderr",
     "output_type": "stream",
     "text": [
      "C:\\Users\\ntlg2\\AppData\\Local\\Temp\\ipykernel_27764\\517759701.py:10: DtypeWarning: Columns (117,119) have mixed types. Specify dtype option on import or set low_memory=False.\n",
      "  df = pd.read_csv(file_path)\n",
      "C:\\Users\\ntlg2\\AppData\\Local\\Temp\\ipykernel_27764\\517759701.py:10: DtypeWarning: Columns (18,117,119) have mixed types. Specify dtype option on import or set low_memory=False.\n",
      "  df = pd.read_csv(file_path)\n",
      "C:\\Users\\ntlg2\\AppData\\Local\\Temp\\ipykernel_27764\\517759701.py:10: DtypeWarning: Columns (18,115,117,119) have mixed types. Specify dtype option on import or set low_memory=False.\n",
      "  df = pd.read_csv(file_path)\n",
      "C:\\Users\\ntlg2\\AppData\\Local\\Temp\\ipykernel_27764\\517759701.py:10: DtypeWarning: Columns (18) have mixed types. Specify dtype option on import or set low_memory=False.\n",
      "  df = pd.read_csv(file_path)\n",
      "C:\\Users\\ntlg2\\AppData\\Local\\Temp\\ipykernel_27764\\517759701.py:10: DtypeWarning: Columns (18) have mixed types. Specify dtype option on import or set low_memory=False.\n",
      "  df = pd.read_csv(file_path)\n",
      "C:\\Users\\ntlg2\\AppData\\Local\\Temp\\ipykernel_27764\\517759701.py:10: DtypeWarning: Columns (18) have mixed types. Specify dtype option on import or set low_memory=False.\n",
      "  df = pd.read_csv(file_path)\n"
     ]
    }
   ],
   "source": [
    "# Años a procesar\n",
    "years = range(2017, 2023)  # Hasta 2022 \n",
    "\n",
    "# Lista para almacenar DataFrames\n",
    "dataframes = []\n",
    "\n",
    "# Cargar archivos en un ciclo\n",
    "for year in years:\n",
    "    file_path = f'../data/FARS_person_{year}.csv'  # Ajusta el path si es necesario\n",
    "    df = pd.read_csv(file_path)\n",
    "    df[\"Year\"] = year  # Agregar la columna de año para referencia\n",
    "    dataframes.append(df)\n",
    "\n",
    "# Concatenar todos los DataFrames en uno solo\n",
    "persons = pd.concat(dataframes, ignore_index=True)"
   ]
  },
  {
   "cell_type": "markdown",
   "id": "81a8c54a",
   "metadata": {},
   "source": [
    "#### Unión de Datos de Accidentes y Persons "
   ]
  },
  {
   "cell_type": "code",
   "execution_count": 6,
   "id": "4a2bcbee",
   "metadata": {},
   "outputs": [
    {
     "name": "stdout",
     "output_type": "stream",
     "text": [
      "Index(['caseyear', 'state', 'st_case', 'statename', 've_total', 've_forms',\n",
      "       'pvh_invl', 'peds', 'pernotmvit', 'permvit', 'persons', 'county',\n",
      "       'countyname', 'city', 'cityname', 'day', 'dayname', 'month',\n",
      "       'monthname', 'year', 'day_week', 'day_weekname', 'hour', 'hourname',\n",
      "       'minute', 'minutename', 'nhs', 'nhsname', 'rur_urb', 'rur_urbname',\n",
      "       'func_sys', 'func_sysname', 'rd_owner', 'rd_ownername', 'route',\n",
      "       'routename', 'tway_id', 'tway_id2', 'milept', 'mileptname', 'latitude',\n",
      "       'latitudename', 'longitud', 'longitudname', 'sp_jur', 'sp_jurname',\n",
      "       'harm_ev', 'harm_evname', 'man_coll', 'man_collname', 'reljct1',\n",
      "       'reljct1name', 'reljct2', 'reljct2name', 'typ_int', 'typ_intname',\n",
      "       'wrk_zone', 'wrk_zonename', 'road_fnc', 'road_fncname', 'rel_road',\n",
      "       'rel_roadname', 'lgt_cond', 'lgt_condname', 'weather1', 'weather1name',\n",
      "       'weather2', 'weather2name', 'weather', 'weathername', 'sch_bus',\n",
      "       'sch_busname', 'rail', 'railname', 'not_hour', 'not_hourname',\n",
      "       'not_min', 'not_minname', 'arr_hour', 'arr_hourname', 'arr_min',\n",
      "       'arr_minname', 'hosp_hr', 'hosp_hrname', 'hosp_mn', 'hosp_mnname',\n",
      "       'cf1', 'cf1name', 'cf2', 'cf2name', 'cf3', 'cf3name', 'fatals',\n",
      "       'drunk_dr', 'Year'],\n",
      "      dtype='object')\n"
     ]
    }
   ],
   "source": [
    "print(accidents.columns)  # Muestra todas las columnas disponibles"
   ]
  },
  {
   "cell_type": "code",
   "execution_count": 7,
   "id": "5beee087",
   "metadata": {},
   "outputs": [
    {
     "name": "stdout",
     "output_type": "stream",
     "text": [
      "Index(['caseyear', 'state', 'statename', 'st_case', 've_forms', 'veh_no',\n",
      "       'per_no', 'str_veh', 'str_vehname', 'county',\n",
      "       ...\n",
      "       'icfinalbodyname', 'gvwr_from', 'gvwr_fromname', 'gvwr_to',\n",
      "       'gvwr_toname', 'devtype', 'devtypename', 'devmotor', 'devmotorname',\n",
      "       'Year'],\n",
      "      dtype='object', length=160)\n"
     ]
    }
   ],
   "source": [
    "print(persons.columns)  "
   ]
  },
  {
   "cell_type": "code",
   "execution_count": 8,
   "id": "ba946e62",
   "metadata": {},
   "outputs": [],
   "source": [
    "df = accidents.merge(persons[['st_case', 'age', 'sex', 'alc_res']], on='st_case', how='left')"
   ]
  },
  {
   "cell_type": "code",
   "execution_count": 9,
   "id": "c6070cd5",
   "metadata": {},
   "outputs": [],
   "source": [
    "df_copy = df.copy()"
   ]
  },
  {
   "cell_type": "code",
   "execution_count": 10,
   "id": "a3984ea3",
   "metadata": {},
   "outputs": [
    {
     "data": {
      "text/html": [
       "<div>\n",
       "<style scoped>\n",
       "    .dataframe tbody tr th:only-of-type {\n",
       "        vertical-align: middle;\n",
       "    }\n",
       "\n",
       "    .dataframe tbody tr th {\n",
       "        vertical-align: top;\n",
       "    }\n",
       "\n",
       "    .dataframe thead th {\n",
       "        text-align: right;\n",
       "    }\n",
       "</style>\n",
       "<table border=\"1\" class=\"dataframe\">\n",
       "  <thead>\n",
       "    <tr style=\"text-align: right;\">\n",
       "      <th></th>\n",
       "      <th>caseyear</th>\n",
       "      <th>state</th>\n",
       "      <th>st_case</th>\n",
       "      <th>statename</th>\n",
       "      <th>ve_total</th>\n",
       "      <th>ve_forms</th>\n",
       "      <th>pvh_invl</th>\n",
       "      <th>peds</th>\n",
       "      <th>pernotmvit</th>\n",
       "      <th>permvit</th>\n",
       "      <th>...</th>\n",
       "      <th>cf2</th>\n",
       "      <th>cf2name</th>\n",
       "      <th>cf3</th>\n",
       "      <th>cf3name</th>\n",
       "      <th>fatals</th>\n",
       "      <th>drunk_dr</th>\n",
       "      <th>Year</th>\n",
       "      <th>age</th>\n",
       "      <th>sex</th>\n",
       "      <th>alc_res</th>\n",
       "    </tr>\n",
       "  </thead>\n",
       "  <tbody>\n",
       "    <tr>\n",
       "      <th>0</th>\n",
       "      <td>2017</td>\n",
       "      <td>1</td>\n",
       "      <td>10001</td>\n",
       "      <td>Alabama</td>\n",
       "      <td>1</td>\n",
       "      <td>1</td>\n",
       "      <td>0</td>\n",
       "      <td>0</td>\n",
       "      <td>0</td>\n",
       "      <td>1</td>\n",
       "      <td>...</td>\n",
       "      <td>0.0</td>\n",
       "      <td>NaN</td>\n",
       "      <td>0.0</td>\n",
       "      <td>NaN</td>\n",
       "      <td>1</td>\n",
       "      <td>0.0</td>\n",
       "      <td>2017</td>\n",
       "      <td>42</td>\n",
       "      <td>1</td>\n",
       "      <td>996</td>\n",
       "    </tr>\n",
       "    <tr>\n",
       "      <th>1</th>\n",
       "      <td>2017</td>\n",
       "      <td>1</td>\n",
       "      <td>10001</td>\n",
       "      <td>Alabama</td>\n",
       "      <td>1</td>\n",
       "      <td>1</td>\n",
       "      <td>0</td>\n",
       "      <td>0</td>\n",
       "      <td>0</td>\n",
       "      <td>1</td>\n",
       "      <td>...</td>\n",
       "      <td>0.0</td>\n",
       "      <td>NaN</td>\n",
       "      <td>0.0</td>\n",
       "      <td>NaN</td>\n",
       "      <td>1</td>\n",
       "      <td>0.0</td>\n",
       "      <td>2017</td>\n",
       "      <td>55</td>\n",
       "      <td>1</td>\n",
       "      <td>0</td>\n",
       "    </tr>\n",
       "    <tr>\n",
       "      <th>2</th>\n",
       "      <td>2017</td>\n",
       "      <td>1</td>\n",
       "      <td>10001</td>\n",
       "      <td>Alabama</td>\n",
       "      <td>1</td>\n",
       "      <td>1</td>\n",
       "      <td>0</td>\n",
       "      <td>0</td>\n",
       "      <td>0</td>\n",
       "      <td>1</td>\n",
       "      <td>...</td>\n",
       "      <td>0.0</td>\n",
       "      <td>NaN</td>\n",
       "      <td>0.0</td>\n",
       "      <td>NaN</td>\n",
       "      <td>1</td>\n",
       "      <td>0.0</td>\n",
       "      <td>2017</td>\n",
       "      <td>34</td>\n",
       "      <td>2</td>\n",
       "      <td>996</td>\n",
       "    </tr>\n",
       "    <tr>\n",
       "      <th>3</th>\n",
       "      <td>2017</td>\n",
       "      <td>1</td>\n",
       "      <td>10001</td>\n",
       "      <td>Alabama</td>\n",
       "      <td>1</td>\n",
       "      <td>1</td>\n",
       "      <td>0</td>\n",
       "      <td>0</td>\n",
       "      <td>0</td>\n",
       "      <td>1</td>\n",
       "      <td>...</td>\n",
       "      <td>0.0</td>\n",
       "      <td>NaN</td>\n",
       "      <td>0.0</td>\n",
       "      <td>NaN</td>\n",
       "      <td>1</td>\n",
       "      <td>0.0</td>\n",
       "      <td>2017</td>\n",
       "      <td>53</td>\n",
       "      <td>1</td>\n",
       "      <td>996</td>\n",
       "    </tr>\n",
       "    <tr>\n",
       "      <th>4</th>\n",
       "      <td>2017</td>\n",
       "      <td>1</td>\n",
       "      <td>10001</td>\n",
       "      <td>Alabama</td>\n",
       "      <td>1</td>\n",
       "      <td>1</td>\n",
       "      <td>0</td>\n",
       "      <td>0</td>\n",
       "      <td>0</td>\n",
       "      <td>1</td>\n",
       "      <td>...</td>\n",
       "      <td>0.0</td>\n",
       "      <td>NaN</td>\n",
       "      <td>0.0</td>\n",
       "      <td>NaN</td>\n",
       "      <td>1</td>\n",
       "      <td>0.0</td>\n",
       "      <td>2017</td>\n",
       "      <td>59</td>\n",
       "      <td>1</td>\n",
       "      <td>0</td>\n",
       "    </tr>\n",
       "  </tbody>\n",
       "</table>\n",
       "<p>5 rows × 98 columns</p>\n",
       "</div>"
      ],
      "text/plain": [
       "   caseyear  state  st_case statename  ve_total  ve_forms  pvh_invl  peds  \\\n",
       "0      2017      1    10001   Alabama         1         1         0     0   \n",
       "1      2017      1    10001   Alabama         1         1         0     0   \n",
       "2      2017      1    10001   Alabama         1         1         0     0   \n",
       "3      2017      1    10001   Alabama         1         1         0     0   \n",
       "4      2017      1    10001   Alabama         1         1         0     0   \n",
       "\n",
       "   pernotmvit  permvit  ...  cf2  cf2name  cf3  cf3name fatals  drunk_dr  \\\n",
       "0           0        1  ...  0.0      NaN  0.0      NaN      1       0.0   \n",
       "1           0        1  ...  0.0      NaN  0.0      NaN      1       0.0   \n",
       "2           0        1  ...  0.0      NaN  0.0      NaN      1       0.0   \n",
       "3           0        1  ...  0.0      NaN  0.0      NaN      1       0.0   \n",
       "4           0        1  ...  0.0      NaN  0.0      NaN      1       0.0   \n",
       "\n",
       "   Year  age sex  alc_res  \n",
       "0  2017   42   1      996  \n",
       "1  2017   55   1        0  \n",
       "2  2017   34   2      996  \n",
       "3  2017   53   1      996  \n",
       "4  2017   59   1        0  \n",
       "\n",
       "[5 rows x 98 columns]"
      ]
     },
     "execution_count": 10,
     "metadata": {},
     "output_type": "execute_result"
    }
   ],
   "source": [
    "df.head()\n"
   ]
  },
  {
   "cell_type": "markdown",
   "id": "f8b83c04",
   "metadata": {},
   "source": [
    "### Generalidades"
   ]
  },
  {
   "cell_type": "code",
   "execution_count": 11,
   "id": "dfeffdcb",
   "metadata": {},
   "outputs": [
    {
     "data": {
      "text/plain": [
       "(3012888, 98)"
      ]
     },
     "execution_count": 11,
     "metadata": {},
     "output_type": "execute_result"
    }
   ],
   "source": [
    "df.shape"
   ]
  },
  {
   "cell_type": "markdown",
   "id": "f442bead",
   "metadata": {},
   "source": [
    "#### Tipos de Datos"
   ]
  },
  {
   "cell_type": "code",
   "execution_count": 12,
   "id": "534a2e95",
   "metadata": {},
   "outputs": [
    {
     "name": "stdout",
     "output_type": "stream",
     "text": [
      "<class 'pandas.core.frame.DataFrame'>\n",
      "RangeIndex: 3012888 entries, 0 to 3012887\n",
      "Data columns (total 98 columns):\n",
      " #   Column        Dtype  \n",
      "---  ------        -----  \n",
      " 0   caseyear      int64  \n",
      " 1   state         int64  \n",
      " 2   st_case       int64  \n",
      " 3   statename     object \n",
      " 4   ve_total      int64  \n",
      " 5   ve_forms      int64  \n",
      " 6   pvh_invl      int64  \n",
      " 7   peds          int64  \n",
      " 8   pernotmvit    int64  \n",
      " 9   permvit       int64  \n",
      " 10  persons       int64  \n",
      " 11  county        int64  \n",
      " 12  countyname    object \n",
      " 13  city          int64  \n",
      " 14  cityname      object \n",
      " 15  day           int64  \n",
      " 16  dayname       int64  \n",
      " 17  month         int64  \n",
      " 18  monthname     object \n",
      " 19  year          int64  \n",
      " 20  day_week      int64  \n",
      " 21  day_weekname  object \n",
      " 22  hour          int64  \n",
      " 23  hourname      object \n",
      " 24  minute        int64  \n",
      " 25  minutename    object \n",
      " 26  nhs           int64  \n",
      " 27  nhsname       object \n",
      " 28  rur_urb       int64  \n",
      " 29  rur_urbname   object \n",
      " 30  func_sys      int64  \n",
      " 31  func_sysname  object \n",
      " 32  rd_owner      int64  \n",
      " 33  rd_ownername  object \n",
      " 34  route         int64  \n",
      " 35  routename     object \n",
      " 36  tway_id       object \n",
      " 37  tway_id2      object \n",
      " 38  milept        int64  \n",
      " 39  mileptname    object \n",
      " 40  latitude      float64\n",
      " 41  latitudename  object \n",
      " 42  longitud      float64\n",
      " 43  longitudname  object \n",
      " 44  sp_jur        int64  \n",
      " 45  sp_jurname    object \n",
      " 46  harm_ev       int64  \n",
      " 47  harm_evname   object \n",
      " 48  man_coll      int64  \n",
      " 49  man_collname  object \n",
      " 50  reljct1       int64  \n",
      " 51  reljct1name   object \n",
      " 52  reljct2       int64  \n",
      " 53  reljct2name   object \n",
      " 54  typ_int       int64  \n",
      " 55  typ_intname   object \n",
      " 56  wrk_zone      int64  \n",
      " 57  wrk_zonename  object \n",
      " 58  road_fnc      float64\n",
      " 59  road_fncname  float64\n",
      " 60  rel_road      int64  \n",
      " 61  rel_roadname  object \n",
      " 62  lgt_cond      int64  \n",
      " 63  lgt_condname  object \n",
      " 64  weather1      float64\n",
      " 65  weather1name  object \n",
      " 66  weather2      float64\n",
      " 67  weather2name  object \n",
      " 68  weather       int64  \n",
      " 69  weathername   object \n",
      " 70  sch_bus       int64  \n",
      " 71  sch_busname   object \n",
      " 72  rail          object \n",
      " 73  railname      object \n",
      " 74  not_hour      int64  \n",
      " 75  not_hourname  object \n",
      " 76  not_min       int64  \n",
      " 77  not_minname   object \n",
      " 78  arr_hour      int64  \n",
      " 79  arr_hourname  object \n",
      " 80  arr_min       int64  \n",
      " 81  arr_minname   object \n",
      " 82  hosp_hr       int64  \n",
      " 83  hosp_hrname   object \n",
      " 84  hosp_mn       int64  \n",
      " 85  hosp_mnname   object \n",
      " 86  cf1           float64\n",
      " 87  cf1name       object \n",
      " 88  cf2           float64\n",
      " 89  cf2name       object \n",
      " 90  cf3           float64\n",
      " 91  cf3name       object \n",
      " 92  fatals        int64  \n",
      " 93  drunk_dr      float64\n",
      " 94  Year          int64  \n",
      " 95  age           int64  \n",
      " 96  sex           int64  \n",
      " 97  alc_res       int64  \n",
      "dtypes: float64(10), int64(47), object(41)\n",
      "memory usage: 2.2+ GB\n"
     ]
    }
   ],
   "source": [
    "df.info()"
   ]
  },
  {
   "cell_type": "code",
   "execution_count": 13,
   "id": "f33df8f1",
   "metadata": {},
   "outputs": [
    {
     "data": {
      "text/plain": [
       "Index(['caseyear', 'state', 'st_case', 'statename', 've_total', 've_forms',\n",
       "       'pvh_invl', 'peds', 'pernotmvit', 'permvit', 'persons', 'county',\n",
       "       'countyname', 'city', 'cityname', 'day', 'dayname', 'month',\n",
       "       'monthname', 'year', 'day_week', 'day_weekname', 'hour', 'hourname',\n",
       "       'minute', 'minutename', 'nhs', 'nhsname', 'rur_urb', 'rur_urbname',\n",
       "       'func_sys', 'func_sysname', 'rd_owner', 'rd_ownername', 'route',\n",
       "       'routename', 'tway_id', 'tway_id2', 'milept', 'mileptname', 'latitude',\n",
       "       'latitudename', 'longitud', 'longitudname', 'sp_jur', 'sp_jurname',\n",
       "       'harm_ev', 'harm_evname', 'man_coll', 'man_collname', 'reljct1',\n",
       "       'reljct1name', 'reljct2', 'reljct2name', 'typ_int', 'typ_intname',\n",
       "       'wrk_zone', 'wrk_zonename', 'road_fnc', 'road_fncname', 'rel_road',\n",
       "       'rel_roadname', 'lgt_cond', 'lgt_condname', 'weather1', 'weather1name',\n",
       "       'weather2', 'weather2name', 'weather', 'weathername', 'sch_bus',\n",
       "       'sch_busname', 'rail', 'railname', 'not_hour', 'not_hourname',\n",
       "       'not_min', 'not_minname', 'arr_hour', 'arr_hourname', 'arr_min',\n",
       "       'arr_minname', 'hosp_hr', 'hosp_hrname', 'hosp_mn', 'hosp_mnname',\n",
       "       'cf1', 'cf1name', 'cf2', 'cf2name', 'cf3', 'cf3name', 'fatals',\n",
       "       'drunk_dr', 'Year', 'age', 'sex', 'alc_res'],\n",
       "      dtype='object')"
      ]
     },
     "execution_count": 13,
     "metadata": {},
     "output_type": "execute_result"
    }
   ],
   "source": [
    "df.columns"
   ]
  },
  {
   "cell_type": "markdown",
   "id": "dffd7196",
   "metadata": {},
   "source": [
    "### Limpieza"
   ]
  },
  {
   "cell_type": "code",
   "execution_count": 14,
   "id": "6379eca3",
   "metadata": {},
   "outputs": [],
   "source": [
    "columns = [\n",
    "    've_total', 'fatals', 'peds','arr_hour', 'arr_min',\n",
    "    'year', 'monthname', 'day_weekname','hour','minute',\n",
    "    'state', 'statename', 'rur_urbname', 'func_sysname', \n",
    "    'weathername', 'lgt_condname','harm_evname',\n",
    "    'age', 'sex', 'alc_res'\n",
    "]\n",
    "\n",
    "df = df[columns]\n"
   ]
  },
  {
   "cell_type": "code",
   "execution_count": 15,
   "id": "92d101e9",
   "metadata": {},
   "outputs": [
    {
     "data": {
      "text/html": [
       "<div>\n",
       "<style scoped>\n",
       "    .dataframe tbody tr th:only-of-type {\n",
       "        vertical-align: middle;\n",
       "    }\n",
       "\n",
       "    .dataframe tbody tr th {\n",
       "        vertical-align: top;\n",
       "    }\n",
       "\n",
       "    .dataframe thead th {\n",
       "        text-align: right;\n",
       "    }\n",
       "</style>\n",
       "<table border=\"1\" class=\"dataframe\">\n",
       "  <thead>\n",
       "    <tr style=\"text-align: right;\">\n",
       "      <th></th>\n",
       "      <th>ve_total</th>\n",
       "      <th>fatals</th>\n",
       "      <th>peds</th>\n",
       "      <th>arr_hour</th>\n",
       "      <th>arr_min</th>\n",
       "      <th>year</th>\n",
       "      <th>monthname</th>\n",
       "      <th>day_weekname</th>\n",
       "      <th>hour</th>\n",
       "      <th>minute</th>\n",
       "      <th>state</th>\n",
       "      <th>statename</th>\n",
       "      <th>rur_urbname</th>\n",
       "      <th>func_sysname</th>\n",
       "      <th>weathername</th>\n",
       "      <th>lgt_condname</th>\n",
       "      <th>harm_evname</th>\n",
       "      <th>age</th>\n",
       "      <th>sex</th>\n",
       "      <th>alc_res</th>\n",
       "    </tr>\n",
       "  </thead>\n",
       "  <tbody>\n",
       "    <tr>\n",
       "      <th>0</th>\n",
       "      <td>1</td>\n",
       "      <td>1</td>\n",
       "      <td>0</td>\n",
       "      <td>99</td>\n",
       "      <td>99</td>\n",
       "      <td>2017</td>\n",
       "      <td>February</td>\n",
       "      <td>Sunday</td>\n",
       "      <td>23</td>\n",
       "      <td>35</td>\n",
       "      <td>1</td>\n",
       "      <td>Alabama</td>\n",
       "      <td>Urban</td>\n",
       "      <td>Interstate</td>\n",
       "      <td>Clear</td>\n",
       "      <td>Dark - Not Lighted</td>\n",
       "      <td>Fence</td>\n",
       "      <td>42</td>\n",
       "      <td>1</td>\n",
       "      <td>996</td>\n",
       "    </tr>\n",
       "    <tr>\n",
       "      <th>1</th>\n",
       "      <td>1</td>\n",
       "      <td>1</td>\n",
       "      <td>0</td>\n",
       "      <td>99</td>\n",
       "      <td>99</td>\n",
       "      <td>2017</td>\n",
       "      <td>February</td>\n",
       "      <td>Sunday</td>\n",
       "      <td>23</td>\n",
       "      <td>35</td>\n",
       "      <td>1</td>\n",
       "      <td>Alabama</td>\n",
       "      <td>Urban</td>\n",
       "      <td>Interstate</td>\n",
       "      <td>Clear</td>\n",
       "      <td>Dark - Not Lighted</td>\n",
       "      <td>Fence</td>\n",
       "      <td>55</td>\n",
       "      <td>1</td>\n",
       "      <td>0</td>\n",
       "    </tr>\n",
       "    <tr>\n",
       "      <th>2</th>\n",
       "      <td>1</td>\n",
       "      <td>1</td>\n",
       "      <td>0</td>\n",
       "      <td>99</td>\n",
       "      <td>99</td>\n",
       "      <td>2017</td>\n",
       "      <td>February</td>\n",
       "      <td>Sunday</td>\n",
       "      <td>23</td>\n",
       "      <td>35</td>\n",
       "      <td>1</td>\n",
       "      <td>Alabama</td>\n",
       "      <td>Urban</td>\n",
       "      <td>Interstate</td>\n",
       "      <td>Clear</td>\n",
       "      <td>Dark - Not Lighted</td>\n",
       "      <td>Fence</td>\n",
       "      <td>34</td>\n",
       "      <td>2</td>\n",
       "      <td>996</td>\n",
       "    </tr>\n",
       "    <tr>\n",
       "      <th>3</th>\n",
       "      <td>1</td>\n",
       "      <td>1</td>\n",
       "      <td>0</td>\n",
       "      <td>99</td>\n",
       "      <td>99</td>\n",
       "      <td>2017</td>\n",
       "      <td>February</td>\n",
       "      <td>Sunday</td>\n",
       "      <td>23</td>\n",
       "      <td>35</td>\n",
       "      <td>1</td>\n",
       "      <td>Alabama</td>\n",
       "      <td>Urban</td>\n",
       "      <td>Interstate</td>\n",
       "      <td>Clear</td>\n",
       "      <td>Dark - Not Lighted</td>\n",
       "      <td>Fence</td>\n",
       "      <td>53</td>\n",
       "      <td>1</td>\n",
       "      <td>996</td>\n",
       "    </tr>\n",
       "    <tr>\n",
       "      <th>4</th>\n",
       "      <td>1</td>\n",
       "      <td>1</td>\n",
       "      <td>0</td>\n",
       "      <td>99</td>\n",
       "      <td>99</td>\n",
       "      <td>2017</td>\n",
       "      <td>February</td>\n",
       "      <td>Sunday</td>\n",
       "      <td>23</td>\n",
       "      <td>35</td>\n",
       "      <td>1</td>\n",
       "      <td>Alabama</td>\n",
       "      <td>Urban</td>\n",
       "      <td>Interstate</td>\n",
       "      <td>Clear</td>\n",
       "      <td>Dark - Not Lighted</td>\n",
       "      <td>Fence</td>\n",
       "      <td>59</td>\n",
       "      <td>1</td>\n",
       "      <td>0</td>\n",
       "    </tr>\n",
       "  </tbody>\n",
       "</table>\n",
       "</div>"
      ],
      "text/plain": [
       "   ve_total  fatals  peds  arr_hour  arr_min  year monthname day_weekname  \\\n",
       "0         1       1     0        99       99  2017  February       Sunday   \n",
       "1         1       1     0        99       99  2017  February       Sunday   \n",
       "2         1       1     0        99       99  2017  February       Sunday   \n",
       "3         1       1     0        99       99  2017  February       Sunday   \n",
       "4         1       1     0        99       99  2017  February       Sunday   \n",
       "\n",
       "   hour  minute  state statename rur_urbname func_sysname weathername  \\\n",
       "0    23      35      1   Alabama       Urban   Interstate       Clear   \n",
       "1    23      35      1   Alabama       Urban   Interstate       Clear   \n",
       "2    23      35      1   Alabama       Urban   Interstate       Clear   \n",
       "3    23      35      1   Alabama       Urban   Interstate       Clear   \n",
       "4    23      35      1   Alabama       Urban   Interstate       Clear   \n",
       "\n",
       "         lgt_condname harm_evname  age  sex  alc_res  \n",
       "0  Dark - Not Lighted       Fence   42    1      996  \n",
       "1  Dark - Not Lighted       Fence   55    1        0  \n",
       "2  Dark - Not Lighted       Fence   34    2      996  \n",
       "3  Dark - Not Lighted       Fence   53    1      996  \n",
       "4  Dark - Not Lighted       Fence   59    1        0  "
      ]
     },
     "execution_count": 15,
     "metadata": {},
     "output_type": "execute_result"
    }
   ],
   "source": [
    "df.head()"
   ]
  },
  {
   "cell_type": "code",
   "execution_count": 16,
   "id": "d4e3999a",
   "metadata": {},
   "outputs": [
    {
     "data": {
      "text/plain": [
       "ve_total         int64\n",
       "fatals           int64\n",
       "peds             int64\n",
       "arr_hour         int64\n",
       "arr_min          int64\n",
       "year             int64\n",
       "monthname       object\n",
       "day_weekname    object\n",
       "hour             int64\n",
       "minute           int64\n",
       "state            int64\n",
       "statename       object\n",
       "rur_urbname     object\n",
       "func_sysname    object\n",
       "weathername     object\n",
       "lgt_condname    object\n",
       "harm_evname     object\n",
       "age              int64\n",
       "sex              int64\n",
       "alc_res          int64\n",
       "dtype: object"
      ]
     },
     "execution_count": 16,
     "metadata": {},
     "output_type": "execute_result"
    }
   ],
   "source": [
    "df.dtypes"
   ]
  },
  {
   "cell_type": "markdown",
   "id": "e6ee5193",
   "metadata": {},
   "source": [
    "#### Manejo de datos de faltantes"
   ]
  },
  {
   "cell_type": "code",
   "execution_count": 17,
   "id": "a18db24d",
   "metadata": {},
   "outputs": [
    {
     "data": {
      "text/plain": [
       "ve_total        0\n",
       "fatals          0\n",
       "peds            0\n",
       "arr_hour        0\n",
       "arr_min         0\n",
       "year            0\n",
       "monthname       0\n",
       "day_weekname    0\n",
       "hour            0\n",
       "minute          0\n",
       "state           0\n",
       "statename       0\n",
       "rur_urbname     0\n",
       "func_sysname    0\n",
       "weathername     0\n",
       "lgt_condname    0\n",
       "harm_evname     0\n",
       "age             0\n",
       "sex             0\n",
       "alc_res         0\n",
       "dtype: int64"
      ]
     },
     "execution_count": 17,
     "metadata": {},
     "output_type": "execute_result"
    }
   ],
   "source": [
    "df.isnull().sum()"
   ]
  },
  {
   "cell_type": "markdown",
   "id": "a5903db4",
   "metadata": {},
   "source": [
    "#### Manejo de datos duplicados"
   ]
  },
  {
   "cell_type": "code",
   "execution_count": 18,
   "id": "e0842104",
   "metadata": {},
   "outputs": [
    {
     "data": {
      "text/plain": [
       "106711"
      ]
     },
     "execution_count": 18,
     "metadata": {},
     "output_type": "execute_result"
    }
   ],
   "source": [
    "df.duplicated().sum()"
   ]
  },
  {
   "cell_type": "code",
   "execution_count": 19,
   "id": "55f05581",
   "metadata": {},
   "outputs": [
    {
     "data": {
      "text/html": [
       "<div>\n",
       "<style scoped>\n",
       "    .dataframe tbody tr th:only-of-type {\n",
       "        vertical-align: middle;\n",
       "    }\n",
       "\n",
       "    .dataframe tbody tr th {\n",
       "        vertical-align: top;\n",
       "    }\n",
       "\n",
       "    .dataframe thead th {\n",
       "        text-align: right;\n",
       "    }\n",
       "</style>\n",
       "<table border=\"1\" class=\"dataframe\">\n",
       "  <thead>\n",
       "    <tr style=\"text-align: right;\">\n",
       "      <th></th>\n",
       "      <th>ve_total</th>\n",
       "      <th>fatals</th>\n",
       "      <th>peds</th>\n",
       "      <th>arr_hour</th>\n",
       "      <th>arr_min</th>\n",
       "      <th>year</th>\n",
       "      <th>monthname</th>\n",
       "      <th>day_weekname</th>\n",
       "      <th>hour</th>\n",
       "      <th>minute</th>\n",
       "      <th>state</th>\n",
       "      <th>statename</th>\n",
       "      <th>rur_urbname</th>\n",
       "      <th>func_sysname</th>\n",
       "      <th>weathername</th>\n",
       "      <th>lgt_condname</th>\n",
       "      <th>harm_evname</th>\n",
       "      <th>age</th>\n",
       "      <th>sex</th>\n",
       "      <th>alc_res</th>\n",
       "    </tr>\n",
       "  </thead>\n",
       "  <tbody>\n",
       "    <tr>\n",
       "      <th>17</th>\n",
       "      <td>1</td>\n",
       "      <td>1</td>\n",
       "      <td>0</td>\n",
       "      <td>15</td>\n",
       "      <td>9</td>\n",
       "      <td>2017</td>\n",
       "      <td>February</td>\n",
       "      <td>Tuesday</td>\n",
       "      <td>14</td>\n",
       "      <td>59</td>\n",
       "      <td>1</td>\n",
       "      <td>Alabama</td>\n",
       "      <td>Urban</td>\n",
       "      <td>Interstate</td>\n",
       "      <td>Clear</td>\n",
       "      <td>Daylight</td>\n",
       "      <td>Rollover/Overturn</td>\n",
       "      <td>24</td>\n",
       "      <td>1</td>\n",
       "      <td>996</td>\n",
       "    </tr>\n",
       "    <tr>\n",
       "      <th>40</th>\n",
       "      <td>3</td>\n",
       "      <td>1</td>\n",
       "      <td>0</td>\n",
       "      <td>99</td>\n",
       "      <td>99</td>\n",
       "      <td>2017</td>\n",
       "      <td>January</td>\n",
       "      <td>Tuesday</td>\n",
       "      <td>20</td>\n",
       "      <td>31</td>\n",
       "      <td>1</td>\n",
       "      <td>Alabama</td>\n",
       "      <td>Urban</td>\n",
       "      <td>Interstate</td>\n",
       "      <td>Clear</td>\n",
       "      <td>Dark - Not Lighted</td>\n",
       "      <td>Motor Vehicle In-Transport</td>\n",
       "      <td>22</td>\n",
       "      <td>1</td>\n",
       "      <td>0</td>\n",
       "    </tr>\n",
       "    <tr>\n",
       "      <th>55</th>\n",
       "      <td>1</td>\n",
       "      <td>1</td>\n",
       "      <td>0</td>\n",
       "      <td>16</td>\n",
       "      <td>58</td>\n",
       "      <td>2017</td>\n",
       "      <td>January</td>\n",
       "      <td>Sunday</td>\n",
       "      <td>16</td>\n",
       "      <td>55</td>\n",
       "      <td>1</td>\n",
       "      <td>Alabama</td>\n",
       "      <td>Urban</td>\n",
       "      <td>Minor Arterial</td>\n",
       "      <td>Rain</td>\n",
       "      <td>Dark - Lighted</td>\n",
       "      <td>Utility Pole/Light Support</td>\n",
       "      <td>18</td>\n",
       "      <td>1</td>\n",
       "      <td>996</td>\n",
       "    </tr>\n",
       "    <tr>\n",
       "      <th>85</th>\n",
       "      <td>2</td>\n",
       "      <td>1</td>\n",
       "      <td>0</td>\n",
       "      <td>18</td>\n",
       "      <td>46</td>\n",
       "      <td>2017</td>\n",
       "      <td>January</td>\n",
       "      <td>Friday</td>\n",
       "      <td>18</td>\n",
       "      <td>40</td>\n",
       "      <td>1</td>\n",
       "      <td>Alabama</td>\n",
       "      <td>Rural</td>\n",
       "      <td>Interstate</td>\n",
       "      <td>Cloudy</td>\n",
       "      <td>Dark - Not Lighted</td>\n",
       "      <td>Ditch</td>\n",
       "      <td>43</td>\n",
       "      <td>1</td>\n",
       "      <td>996</td>\n",
       "    </tr>\n",
       "    <tr>\n",
       "      <th>86</th>\n",
       "      <td>2</td>\n",
       "      <td>1</td>\n",
       "      <td>0</td>\n",
       "      <td>18</td>\n",
       "      <td>46</td>\n",
       "      <td>2017</td>\n",
       "      <td>January</td>\n",
       "      <td>Friday</td>\n",
       "      <td>18</td>\n",
       "      <td>40</td>\n",
       "      <td>1</td>\n",
       "      <td>Alabama</td>\n",
       "      <td>Rural</td>\n",
       "      <td>Interstate</td>\n",
       "      <td>Cloudy</td>\n",
       "      <td>Dark - Not Lighted</td>\n",
       "      <td>Ditch</td>\n",
       "      <td>38</td>\n",
       "      <td>1</td>\n",
       "      <td>996</td>\n",
       "    </tr>\n",
       "    <tr>\n",
       "      <th>...</th>\n",
       "      <td>...</td>\n",
       "      <td>...</td>\n",
       "      <td>...</td>\n",
       "      <td>...</td>\n",
       "      <td>...</td>\n",
       "      <td>...</td>\n",
       "      <td>...</td>\n",
       "      <td>...</td>\n",
       "      <td>...</td>\n",
       "      <td>...</td>\n",
       "      <td>...</td>\n",
       "      <td>...</td>\n",
       "      <td>...</td>\n",
       "      <td>...</td>\n",
       "      <td>...</td>\n",
       "      <td>...</td>\n",
       "      <td>...</td>\n",
       "      <td>...</td>\n",
       "      <td>...</td>\n",
       "      <td>...</td>\n",
       "    </tr>\n",
       "    <tr>\n",
       "      <th>3012725</th>\n",
       "      <td>2</td>\n",
       "      <td>1</td>\n",
       "      <td>0</td>\n",
       "      <td>23</td>\n",
       "      <td>2</td>\n",
       "      <td>2022</td>\n",
       "      <td>November</td>\n",
       "      <td>Thursday</td>\n",
       "      <td>22</td>\n",
       "      <td>43</td>\n",
       "      <td>56</td>\n",
       "      <td>Wyoming</td>\n",
       "      <td>Rural</td>\n",
       "      <td>Interstate</td>\n",
       "      <td>Clear</td>\n",
       "      <td>Dark - Not Lighted</td>\n",
       "      <td>Motor Vehicle In-Transport</td>\n",
       "      <td>33</td>\n",
       "      <td>1</td>\n",
       "      <td>996</td>\n",
       "    </tr>\n",
       "    <tr>\n",
       "      <th>3012728</th>\n",
       "      <td>2</td>\n",
       "      <td>1</td>\n",
       "      <td>0</td>\n",
       "      <td>23</td>\n",
       "      <td>2</td>\n",
       "      <td>2022</td>\n",
       "      <td>November</td>\n",
       "      <td>Thursday</td>\n",
       "      <td>22</td>\n",
       "      <td>43</td>\n",
       "      <td>56</td>\n",
       "      <td>Wyoming</td>\n",
       "      <td>Rural</td>\n",
       "      <td>Interstate</td>\n",
       "      <td>Clear</td>\n",
       "      <td>Dark - Not Lighted</td>\n",
       "      <td>Motor Vehicle In-Transport</td>\n",
       "      <td>25</td>\n",
       "      <td>1</td>\n",
       "      <td>996</td>\n",
       "    </tr>\n",
       "    <tr>\n",
       "      <th>3012794</th>\n",
       "      <td>4</td>\n",
       "      <td>1</td>\n",
       "      <td>0</td>\n",
       "      <td>16</td>\n",
       "      <td>40</td>\n",
       "      <td>2022</td>\n",
       "      <td>November</td>\n",
       "      <td>Monday</td>\n",
       "      <td>16</td>\n",
       "      <td>30</td>\n",
       "      <td>56</td>\n",
       "      <td>Wyoming</td>\n",
       "      <td>Rural</td>\n",
       "      <td>Interstate</td>\n",
       "      <td>Snow</td>\n",
       "      <td>Dusk</td>\n",
       "      <td>Motor Vehicle In-Transport</td>\n",
       "      <td>46</td>\n",
       "      <td>1</td>\n",
       "      <td>996</td>\n",
       "    </tr>\n",
       "    <tr>\n",
       "      <th>3012798</th>\n",
       "      <td>4</td>\n",
       "      <td>1</td>\n",
       "      <td>0</td>\n",
       "      <td>16</td>\n",
       "      <td>40</td>\n",
       "      <td>2022</td>\n",
       "      <td>November</td>\n",
       "      <td>Monday</td>\n",
       "      <td>16</td>\n",
       "      <td>30</td>\n",
       "      <td>56</td>\n",
       "      <td>Wyoming</td>\n",
       "      <td>Rural</td>\n",
       "      <td>Interstate</td>\n",
       "      <td>Snow</td>\n",
       "      <td>Dusk</td>\n",
       "      <td>Motor Vehicle In-Transport</td>\n",
       "      <td>46</td>\n",
       "      <td>1</td>\n",
       "      <td>996</td>\n",
       "    </tr>\n",
       "    <tr>\n",
       "      <th>3012856</th>\n",
       "      <td>3</td>\n",
       "      <td>1</td>\n",
       "      <td>2</td>\n",
       "      <td>4</td>\n",
       "      <td>18</td>\n",
       "      <td>2022</td>\n",
       "      <td>December</td>\n",
       "      <td>Wednesday</td>\n",
       "      <td>4</td>\n",
       "      <td>15</td>\n",
       "      <td>56</td>\n",
       "      <td>Wyoming</td>\n",
       "      <td>Rural</td>\n",
       "      <td>Interstate</td>\n",
       "      <td>Clear</td>\n",
       "      <td>Dark - Not Lighted</td>\n",
       "      <td>Pedestrian</td>\n",
       "      <td>28</td>\n",
       "      <td>2</td>\n",
       "      <td>996</td>\n",
       "    </tr>\n",
       "  </tbody>\n",
       "</table>\n",
       "<p>106711 rows × 20 columns</p>\n",
       "</div>"
      ],
      "text/plain": [
       "         ve_total  fatals  peds  arr_hour  arr_min  year monthname  \\\n",
       "17              1       1     0        15        9  2017  February   \n",
       "40              3       1     0        99       99  2017   January   \n",
       "55              1       1     0        16       58  2017   January   \n",
       "85              2       1     0        18       46  2017   January   \n",
       "86              2       1     0        18       46  2017   January   \n",
       "...           ...     ...   ...       ...      ...   ...       ...   \n",
       "3012725         2       1     0        23        2  2022  November   \n",
       "3012728         2       1     0        23        2  2022  November   \n",
       "3012794         4       1     0        16       40  2022  November   \n",
       "3012798         4       1     0        16       40  2022  November   \n",
       "3012856         3       1     2         4       18  2022  December   \n",
       "\n",
       "        day_weekname  hour  minute  state statename rur_urbname  \\\n",
       "17           Tuesday    14      59      1   Alabama       Urban   \n",
       "40           Tuesday    20      31      1   Alabama       Urban   \n",
       "55            Sunday    16      55      1   Alabama       Urban   \n",
       "85            Friday    18      40      1   Alabama       Rural   \n",
       "86            Friday    18      40      1   Alabama       Rural   \n",
       "...              ...   ...     ...    ...       ...         ...   \n",
       "3012725     Thursday    22      43     56   Wyoming       Rural   \n",
       "3012728     Thursday    22      43     56   Wyoming       Rural   \n",
       "3012794       Monday    16      30     56   Wyoming       Rural   \n",
       "3012798       Monday    16      30     56   Wyoming       Rural   \n",
       "3012856    Wednesday     4      15     56   Wyoming       Rural   \n",
       "\n",
       "           func_sysname weathername        lgt_condname  \\\n",
       "17           Interstate       Clear            Daylight   \n",
       "40           Interstate       Clear  Dark - Not Lighted   \n",
       "55       Minor Arterial        Rain      Dark - Lighted   \n",
       "85           Interstate      Cloudy  Dark - Not Lighted   \n",
       "86           Interstate      Cloudy  Dark - Not Lighted   \n",
       "...                 ...         ...                 ...   \n",
       "3012725      Interstate       Clear  Dark - Not Lighted   \n",
       "3012728      Interstate       Clear  Dark - Not Lighted   \n",
       "3012794      Interstate        Snow                Dusk   \n",
       "3012798      Interstate        Snow                Dusk   \n",
       "3012856      Interstate       Clear  Dark - Not Lighted   \n",
       "\n",
       "                        harm_evname  age  sex  alc_res  \n",
       "17                Rollover/Overturn   24    1      996  \n",
       "40       Motor Vehicle In-Transport   22    1        0  \n",
       "55       Utility Pole/Light Support   18    1      996  \n",
       "85                            Ditch   43    1      996  \n",
       "86                            Ditch   38    1      996  \n",
       "...                             ...  ...  ...      ...  \n",
       "3012725  Motor Vehicle In-Transport   33    1      996  \n",
       "3012728  Motor Vehicle In-Transport   25    1      996  \n",
       "3012794  Motor Vehicle In-Transport   46    1      996  \n",
       "3012798  Motor Vehicle In-Transport   46    1      996  \n",
       "3012856                  Pedestrian   28    2      996  \n",
       "\n",
       "[106711 rows x 20 columns]"
      ]
     },
     "execution_count": 19,
     "metadata": {},
     "output_type": "execute_result"
    }
   ],
   "source": [
    "df[df.duplicated()]"
   ]
  },
  {
   "cell_type": "code",
   "execution_count": 20,
   "id": "e9563463",
   "metadata": {},
   "outputs": [],
   "source": [
    "df = df.drop_duplicates()"
   ]
  },
  {
   "cell_type": "code",
   "execution_count": 21,
   "id": "cb69a361",
   "metadata": {},
   "outputs": [
    {
     "data": {
      "text/plain": [
       "(2906177, 20)"
      ]
     },
     "execution_count": 21,
     "metadata": {},
     "output_type": "execute_result"
    }
   ],
   "source": [
    "df.shape"
   ]
  },
  {
   "cell_type": "code",
   "execution_count": 22,
   "id": "70d9f2bb",
   "metadata": {},
   "outputs": [
    {
     "data": {
      "text/plain": [
       "rur_urbname\n",
       "Urban                                1690093\n",
       "Rural                                1207277\n",
       "Trafficway Not in State Inventory       5351\n",
       "Unknown                                 2811\n",
       "Not Reported                             645\n",
       "Name: count, dtype: int64"
      ]
     },
     "execution_count": 22,
     "metadata": {},
     "output_type": "execute_result"
    }
   ],
   "source": [
    "df['rur_urbname'].value_counts()    "
   ]
  },
  {
   "cell_type": "code",
   "execution_count": 23,
   "id": "1d3ded83",
   "metadata": {},
   "outputs": [],
   "source": [
    "df = df.loc[~df[\"rur_urbname\"].isin([\"Not Reported\", \"Trafficway Not in State Inventory\", \"Unknown\"])].copy()"
   ]
  },
  {
   "cell_type": "code",
   "execution_count": 24,
   "id": "1bb2f052",
   "metadata": {},
   "outputs": [
    {
     "data": {
      "text/plain": [
       "weathername\n",
       "Clear                       2057900\n",
       "Cloudy                       390569\n",
       "Rain                         206128\n",
       "Not Reported                 157998\n",
       "Fog, Smog, Smoke              31155\n",
       "Snow                          25821\n",
       "Reported as Unknown            9883\n",
       "Severe Crosswinds              4758\n",
       "Sleet or Hail                  3512\n",
       "Other                          2720\n",
       "Freezing Rain or Drizzle       2318\n",
       "Blowing Snow                   2298\n",
       "Unknown                        1442\n",
       "Blowing Sand, Soil, Dirt        868\n",
       "Name: count, dtype: int64"
      ]
     },
     "execution_count": 24,
     "metadata": {},
     "output_type": "execute_result"
    }
   ],
   "source": [
    "df['weathername'].value_counts()  "
   ]
  },
  {
   "cell_type": "code",
   "execution_count": 25,
   "id": "4d214bbc",
   "metadata": {},
   "outputs": [],
   "source": [
    "df = df.loc[~df[\"weathername\"].isin([\n",
    "    \"Not Reported\", \"Other\", \"Unknown\", \"Reported as Unknown\"\n",
    "])].copy()"
   ]
  },
  {
   "cell_type": "code",
   "execution_count": 26,
   "id": "638c6d66",
   "metadata": {},
   "outputs": [
    {
     "data": {
      "text/plain": [
       "(2725327, 20)"
      ]
     },
     "execution_count": 26,
     "metadata": {},
     "output_type": "execute_result"
    }
   ],
   "source": [
    "df.shape"
   ]
  },
  {
   "cell_type": "code",
   "execution_count": 27,
   "id": "82f4d80c",
   "metadata": {},
   "outputs": [
    {
     "data": {
      "text/plain": [
       "lgt_condname\n",
       "Daylight                   1271967\n",
       "Dark - Not Lighted          742389\n",
       "Dark - Lighted              569914\n",
       "Dusk                         64650\n",
       "Dawn                         50960\n",
       "Dark - Unknown Lighting      18950\n",
       "Reported as Unknown           3746\n",
       "Other                         1174\n",
       "Not Reported                   801\n",
       "Unknown                        776\n",
       "Name: count, dtype: int64"
      ]
     },
     "execution_count": 27,
     "metadata": {},
     "output_type": "execute_result"
    }
   ],
   "source": [
    "df['lgt_condname'].value_counts()  "
   ]
  },
  {
   "cell_type": "code",
   "execution_count": 28,
   "id": "e1a6e9bb",
   "metadata": {},
   "outputs": [],
   "source": [
    "df = df.loc[~df['lgt_condname'].isin([\n",
    "    \"Not Reported\", \"Other\", \"Unknown\", \"Reported as Unknown\"\n",
    "])].copy()"
   ]
  },
  {
   "cell_type": "code",
   "execution_count": 29,
   "id": "665d5aab",
   "metadata": {},
   "outputs": [],
   "source": [
    "# Diccionario con códigos especiales por columna\n",
    "special_codes = {\n",
    "    'arr_hour': [88, 99],\n",
    "    'arr_min': [88, 97, 98, 99],\n",
    "}\n",
    "\n",
    "for col, codes in special_codes.items():\n",
    "    df[col] = df[col].replace({code: -1 for code in codes})  # -1 como marcador en lugar de NaN\n"
   ]
  },
  {
   "cell_type": "code",
   "execution_count": 30,
   "id": "8123ffff",
   "metadata": {},
   "outputs": [],
   "source": [
    "df = df.loc[~df[['arr_hour', 'arr_min']].isin([-1]).any(axis=1)].copy()"
   ]
  },
  {
   "cell_type": "markdown",
   "id": "d613639d",
   "metadata": {},
   "source": [
    "\n",
    "\n",
    "Las siguientes variables de tiempo del dataset FARS fueron procesadas para eliminar códigos especiales o valores fuera del rango válido:\n",
    "\n",
    "- `arr_hour`: hora de llegada\n",
    "- `arr_min`: minuto de llegada\n",
    "\n",
    "\n",
    "Estas variables contenían códigos utilizados por el sistema FARS para representar valores especiales:\n",
    "\n",
    "| Código | Significado común en FARS |\n",
    "|--------|----------------------------|\n",
    "| `88`   | Not Applicable             |\n",
    "| `96`   | Anómalo (fuera de rango)   |\n",
    "| `97`   | Imputed                    |\n",
    "| `98`   | Estimated                  |\n",
    "| `99`   | Unknown / Missing          |\n",
    "\n",
    "Estos códigos fueron reemplazados por `-1` y eliminados dado que no eran muchos.\n",
    "\n",
    "Por ejemplo:\n",
    "- `arr_min` contenía valores como `97`, `98`, `99`, que no representan minutos válidos."
   ]
  },
  {
   "cell_type": "markdown",
   "id": "e528c979",
   "metadata": {},
   "source": [
    "### Manejo de la variable `sex`"
   ]
  },
  {
   "cell_type": "code",
   "execution_count": 31,
   "id": "f210d43e",
   "metadata": {},
   "outputs": [
    {
     "data": {
      "text/plain": [
       "sex\n",
       "8     5931\n",
       "9    11566\n",
       "Name: count, dtype: int64"
      ]
     },
     "execution_count": 31,
     "metadata": {},
     "output_type": "execute_result"
    }
   ],
   "source": [
    "df[\"sex\"].value_counts()[[8, 9]]"
   ]
  },
  {
   "cell_type": "code",
   "execution_count": 32,
   "id": "237e9269",
   "metadata": {},
   "outputs": [],
   "source": [
    "df = df.loc[~df[\"sex\"].isin([\"Not Reported\", \"Unknown\"])].copy()"
   ]
  },
  {
   "cell_type": "code",
   "execution_count": 33,
   "id": "3de56e14",
   "metadata": {},
   "outputs": [],
   "source": [
    "sex_mapping = {\n",
    "    1: \"Male\",\n",
    "    2: \"Female\",\n",
    "    3: \"Other\",\n",
    "}\n",
    "\n",
    "df[\"sex\"] = df[\"sex\"].map(sex_mapping)"
   ]
  },
  {
   "cell_type": "markdown",
   "id": "2f171f7f",
   "metadata": {},
   "source": [
    "### Manejo de la variable `func_sysname`"
   ]
  },
  {
   "cell_type": "code",
   "execution_count": 34,
   "id": "4c8c5e26",
   "metadata": {},
   "outputs": [
    {
     "data": {
      "text/plain": [
       "array(['Interstate', 'Minor Arterial', 'Principal Arterial - Other',\n",
       "       'Major Collector', 'Minor Collector', 'Local',\n",
       "       'Principal Arterial - Other Freeways and Expressways',\n",
       "       'Not Reported', 'Unknown'], dtype=object)"
      ]
     },
     "execution_count": 34,
     "metadata": {},
     "output_type": "execute_result"
    }
   ],
   "source": [
    "df['func_sysname'].unique()"
   ]
  },
  {
   "cell_type": "code",
   "execution_count": 35,
   "id": "d6379df1",
   "metadata": {},
   "outputs": [],
   "source": [
    "# Diccionario con códigos especiales para la columna 'func_sysname'\n",
    "special_codes = {\n",
    "    'func_sysname': ['Not Reported', 'Unknown']  \n",
    "}\n",
    "\n",
    "# Reemplazar valores especiales por -1 como marcador en lugar de NaN\n",
    "for col, codes in special_codes.items():\n",
    "    df[col] = df[col].replace({code: -1 for code in codes})"
   ]
  },
  {
   "cell_type": "code",
   "execution_count": 36,
   "id": "9788f24b",
   "metadata": {},
   "outputs": [],
   "source": [
    "# Filtrar filas donde 'func_sysname' no contenga valores especiales (-1)\n",
    "df = df.loc[~df['func_sysname'].isin([-1])].copy()"
   ]
  },
  {
   "cell_type": "code",
   "execution_count": 37,
   "id": "9822b0a4",
   "metadata": {},
   "outputs": [
    {
     "data": {
      "text/plain": [
       "array(['Interstate', 'Minor Arterial', 'Principal Arterial - Other',\n",
       "       'Major Collector', 'Minor Collector', 'Local',\n",
       "       'Principal Arterial - Other Freeways and Expressways'],\n",
       "      dtype=object)"
      ]
     },
     "execution_count": 37,
     "metadata": {},
     "output_type": "execute_result"
    }
   ],
   "source": [
    "df['func_sysname'].unique()"
   ]
  },
  {
   "cell_type": "markdown",
   "id": "c3058c89",
   "metadata": {},
   "source": [
    "## Estadísticas descriptivas"
   ]
  },
  {
   "cell_type": "code",
   "execution_count": 38,
   "id": "60d01405",
   "metadata": {},
   "outputs": [
    {
     "data": {
      "text/html": [
       "<div>\n",
       "<style scoped>\n",
       "    .dataframe tbody tr th:only-of-type {\n",
       "        vertical-align: middle;\n",
       "    }\n",
       "\n",
       "    .dataframe tbody tr th {\n",
       "        vertical-align: top;\n",
       "    }\n",
       "\n",
       "    .dataframe thead th {\n",
       "        text-align: right;\n",
       "    }\n",
       "</style>\n",
       "<table border=\"1\" class=\"dataframe\">\n",
       "  <thead>\n",
       "    <tr style=\"text-align: right;\">\n",
       "      <th></th>\n",
       "      <th>monthname</th>\n",
       "      <th>day_weekname</th>\n",
       "      <th>statename</th>\n",
       "      <th>rur_urbname</th>\n",
       "      <th>func_sysname</th>\n",
       "      <th>weathername</th>\n",
       "      <th>lgt_condname</th>\n",
       "      <th>harm_evname</th>\n",
       "      <th>sex</th>\n",
       "    </tr>\n",
       "  </thead>\n",
       "  <tbody>\n",
       "    <tr>\n",
       "      <th>count</th>\n",
       "      <td>1254597</td>\n",
       "      <td>1254597</td>\n",
       "      <td>1254597</td>\n",
       "      <td>1254597</td>\n",
       "      <td>1254597</td>\n",
       "      <td>1254597</td>\n",
       "      <td>1254597</td>\n",
       "      <td>1254597</td>\n",
       "      <td>1237133</td>\n",
       "    </tr>\n",
       "    <tr>\n",
       "      <th>unique</th>\n",
       "      <td>12</td>\n",
       "      <td>7</td>\n",
       "      <td>52</td>\n",
       "      <td>2</td>\n",
       "      <td>7</td>\n",
       "      <td>10</td>\n",
       "      <td>6</td>\n",
       "      <td>60</td>\n",
       "      <td>2</td>\n",
       "    </tr>\n",
       "    <tr>\n",
       "      <th>top</th>\n",
       "      <td>July</td>\n",
       "      <td>Saturday</td>\n",
       "      <td>Georgia</td>\n",
       "      <td>Urban</td>\n",
       "      <td>Principal Arterial - Other</td>\n",
       "      <td>Clear</td>\n",
       "      <td>Daylight</td>\n",
       "      <td>Motor Vehicle In-Transport</td>\n",
       "      <td>Male</td>\n",
       "    </tr>\n",
       "    <tr>\n",
       "      <th>freq</th>\n",
       "      <td>126186</td>\n",
       "      <td>215281</td>\n",
       "      <td>91359</td>\n",
       "      <td>686063</td>\n",
       "      <td>366104</td>\n",
       "      <td>911650</td>\n",
       "      <td>643862</td>\n",
       "      <td>558751</td>\n",
       "      <td>822028</td>\n",
       "    </tr>\n",
       "  </tbody>\n",
       "</table>\n",
       "</div>"
      ],
      "text/plain": [
       "       monthname day_weekname statename rur_urbname  \\\n",
       "count    1254597      1254597   1254597     1254597   \n",
       "unique        12            7        52           2   \n",
       "top         July     Saturday   Georgia       Urban   \n",
       "freq      126186       215281     91359      686063   \n",
       "\n",
       "                      func_sysname weathername lgt_condname  \\\n",
       "count                      1254597     1254597      1254597   \n",
       "unique                           7          10            6   \n",
       "top     Principal Arterial - Other       Clear     Daylight   \n",
       "freq                        366104      911650       643862   \n",
       "\n",
       "                       harm_evname      sex  \n",
       "count                      1254597  1237133  \n",
       "unique                          60        2  \n",
       "top     Motor Vehicle In-Transport     Male  \n",
       "freq                        558751   822028  "
      ]
     },
     "execution_count": 38,
     "metadata": {},
     "output_type": "execute_result"
    }
   ],
   "source": [
    "df.describe(include=\"object\")"
   ]
  },
  {
   "cell_type": "code",
   "execution_count": 39,
   "id": "83a23702",
   "metadata": {},
   "outputs": [
    {
     "data": {
      "text/html": [
       "<div>\n",
       "<style scoped>\n",
       "    .dataframe tbody tr th:only-of-type {\n",
       "        vertical-align: middle;\n",
       "    }\n",
       "\n",
       "    .dataframe tbody tr th {\n",
       "        vertical-align: top;\n",
       "    }\n",
       "\n",
       "    .dataframe thead th {\n",
       "        text-align: right;\n",
       "    }\n",
       "</style>\n",
       "<table border=\"1\" class=\"dataframe\">\n",
       "  <thead>\n",
       "    <tr style=\"text-align: right;\">\n",
       "      <th></th>\n",
       "      <th>count</th>\n",
       "      <th>mean</th>\n",
       "      <th>std</th>\n",
       "      <th>min</th>\n",
       "      <th>25%</th>\n",
       "      <th>50%</th>\n",
       "      <th>75%</th>\n",
       "      <th>max</th>\n",
       "    </tr>\n",
       "  </thead>\n",
       "  <tbody>\n",
       "    <tr>\n",
       "      <th>ve_total</th>\n",
       "      <td>1254597.0</td>\n",
       "      <td>1.663979</td>\n",
       "      <td>0.994666</td>\n",
       "      <td>1.0</td>\n",
       "      <td>1.0</td>\n",
       "      <td>2.0</td>\n",
       "      <td>2.0</td>\n",
       "      <td>50.0</td>\n",
       "    </tr>\n",
       "    <tr>\n",
       "      <th>fatals</th>\n",
       "      <td>1254597.0</td>\n",
       "      <td>1.102694</td>\n",
       "      <td>0.393739</td>\n",
       "      <td>1.0</td>\n",
       "      <td>1.0</td>\n",
       "      <td>1.0</td>\n",
       "      <td>1.0</td>\n",
       "      <td>20.0</td>\n",
       "    </tr>\n",
       "    <tr>\n",
       "      <th>peds</th>\n",
       "      <td>1254597.0</td>\n",
       "      <td>0.196833</td>\n",
       "      <td>0.468048</td>\n",
       "      <td>0.0</td>\n",
       "      <td>0.0</td>\n",
       "      <td>0.0</td>\n",
       "      <td>0.0</td>\n",
       "      <td>20.0</td>\n",
       "    </tr>\n",
       "    <tr>\n",
       "      <th>arr_hour</th>\n",
       "      <td>1254597.0</td>\n",
       "      <td>13.126037</td>\n",
       "      <td>6.694896</td>\n",
       "      <td>0.0</td>\n",
       "      <td>8.0</td>\n",
       "      <td>14.0</td>\n",
       "      <td>19.0</td>\n",
       "      <td>23.0</td>\n",
       "    </tr>\n",
       "    <tr>\n",
       "      <th>arr_min</th>\n",
       "      <td>1254597.0</td>\n",
       "      <td>29.403170</td>\n",
       "      <td>17.354543</td>\n",
       "      <td>0.0</td>\n",
       "      <td>14.0</td>\n",
       "      <td>30.0</td>\n",
       "      <td>45.0</td>\n",
       "      <td>59.0</td>\n",
       "    </tr>\n",
       "    <tr>\n",
       "      <th>year</th>\n",
       "      <td>1254597.0</td>\n",
       "      <td>2019.534575</td>\n",
       "      <td>1.731672</td>\n",
       "      <td>2017.0</td>\n",
       "      <td>2018.0</td>\n",
       "      <td>2020.0</td>\n",
       "      <td>2021.0</td>\n",
       "      <td>2022.0</td>\n",
       "    </tr>\n",
       "    <tr>\n",
       "      <th>hour</th>\n",
       "      <td>1254597.0</td>\n",
       "      <td>13.536228</td>\n",
       "      <td>8.721739</td>\n",
       "      <td>0.0</td>\n",
       "      <td>8.0</td>\n",
       "      <td>14.0</td>\n",
       "      <td>19.0</td>\n",
       "      <td>99.0</td>\n",
       "    </tr>\n",
       "    <tr>\n",
       "      <th>minute</th>\n",
       "      <td>1254597.0</td>\n",
       "      <td>29.134057</td>\n",
       "      <td>17.944767</td>\n",
       "      <td>0.0</td>\n",
       "      <td>14.0</td>\n",
       "      <td>30.0</td>\n",
       "      <td>44.0</td>\n",
       "      <td>99.0</td>\n",
       "    </tr>\n",
       "    <tr>\n",
       "      <th>state</th>\n",
       "      <td>1254597.0</td>\n",
       "      <td>27.582859</td>\n",
       "      <td>15.279282</td>\n",
       "      <td>1.0</td>\n",
       "      <td>15.0</td>\n",
       "      <td>28.0</td>\n",
       "      <td>39.0</td>\n",
       "      <td>56.0</td>\n",
       "    </tr>\n",
       "    <tr>\n",
       "      <th>age</th>\n",
       "      <td>1254597.0</td>\n",
       "      <td>57.698543</td>\n",
       "      <td>129.407250</td>\n",
       "      <td>0.0</td>\n",
       "      <td>24.0</td>\n",
       "      <td>38.0</td>\n",
       "      <td>57.0</td>\n",
       "      <td>999.0</td>\n",
       "    </tr>\n",
       "    <tr>\n",
       "      <th>alc_res</th>\n",
       "      <td>1254597.0</td>\n",
       "      <td>632.270661</td>\n",
       "      <td>461.823406</td>\n",
       "      <td>0.0</td>\n",
       "      <td>0.0</td>\n",
       "      <td>996.0</td>\n",
       "      <td>996.0</td>\n",
       "      <td>999.0</td>\n",
       "    </tr>\n",
       "  </tbody>\n",
       "</table>\n",
       "</div>"
      ],
      "text/plain": [
       "              count         mean         std     min     25%     50%     75%  \\\n",
       "ve_total  1254597.0     1.663979    0.994666     1.0     1.0     2.0     2.0   \n",
       "fatals    1254597.0     1.102694    0.393739     1.0     1.0     1.0     1.0   \n",
       "peds      1254597.0     0.196833    0.468048     0.0     0.0     0.0     0.0   \n",
       "arr_hour  1254597.0    13.126037    6.694896     0.0     8.0    14.0    19.0   \n",
       "arr_min   1254597.0    29.403170   17.354543     0.0    14.0    30.0    45.0   \n",
       "year      1254597.0  2019.534575    1.731672  2017.0  2018.0  2020.0  2021.0   \n",
       "hour      1254597.0    13.536228    8.721739     0.0     8.0    14.0    19.0   \n",
       "minute    1254597.0    29.134057   17.944767     0.0    14.0    30.0    44.0   \n",
       "state     1254597.0    27.582859   15.279282     1.0    15.0    28.0    39.0   \n",
       "age       1254597.0    57.698543  129.407250     0.0    24.0    38.0    57.0   \n",
       "alc_res   1254597.0   632.270661  461.823406     0.0     0.0   996.0   996.0   \n",
       "\n",
       "             max  \n",
       "ve_total    50.0  \n",
       "fatals      20.0  \n",
       "peds        20.0  \n",
       "arr_hour    23.0  \n",
       "arr_min     59.0  \n",
       "year      2022.0  \n",
       "hour        99.0  \n",
       "minute      99.0  \n",
       "state       56.0  \n",
       "age        999.0  \n",
       "alc_res    999.0  "
      ]
     },
     "execution_count": 39,
     "metadata": {},
     "output_type": "execute_result"
    }
   ],
   "source": [
    "df.describe().T"
   ]
  },
  {
   "cell_type": "code",
   "execution_count": 40,
   "id": "b0b2c106",
   "metadata": {},
   "outputs": [
    {
     "name": "stdout",
     "output_type": "stream",
     "text": [
      "\n",
      "--- Analyzing Outliers for 've_total' ---\n",
      "Number of Outliers: 37401\n",
      "Lower Limit: -0.50, Upper Limit: 3.50\n",
      "\n",
      "--- Analyzing Outliers for 'fatals' ---\n",
      "Number of Outliers: 103454\n",
      "Lower Limit: 1.00, Upper Limit: 1.00\n",
      "\n",
      "--- Analyzing Outliers for 'peds' ---\n",
      "Number of Outliers: 225024\n",
      "Lower Limit: 0.00, Upper Limit: 0.00\n",
      "\n",
      "--- Analyzing Outliers for 'arr_hour' ---\n",
      "Number of Outliers: 0\n",
      "Lower Limit: -8.50, Upper Limit: 35.50\n",
      "\n",
      "--- Analyzing Outliers for 'arr_min' ---\n",
      "Number of Outliers: 0\n",
      "Lower Limit: -32.50, Upper Limit: 91.50\n",
      "\n",
      "--- Analyzing Outliers for 'year' ---\n",
      "Number of Outliers: 0\n",
      "Lower Limit: 2013.50, Upper Limit: 2025.50\n",
      "\n",
      "--- Analyzing Outliers for 'hour' ---\n",
      "Number of Outliers: 5440\n",
      "Lower Limit: -8.50, Upper Limit: 35.50\n",
      "\n",
      "--- Analyzing Outliers for 'minute' ---\n",
      "Number of Outliers: 5452\n",
      "Lower Limit: -31.00, Upper Limit: 89.00\n",
      "\n",
      "--- Analyzing Outliers for 'state' ---\n",
      "Number of Outliers: 0\n",
      "Lower Limit: -21.00, Upper Limit: 75.00\n",
      "\n",
      "--- Analyzing Outliers for 'age' ---\n",
      "Number of Outliers: 22747\n",
      "Lower Limit: -25.50, Upper Limit: 106.50\n",
      "\n",
      "--- Analyzing Outliers for 'alc_res' ---\n",
      "Number of Outliers: 0\n",
      "Lower Limit: -1494.00, Upper Limit: 2490.00\n",
      "\n",
      "Resumen de Outliers:\n",
      "[{'Variable': 've_total', 'Outliers': 37401, 'Lower Limit': -0.5, 'Upper Limit': 3.5, 'Porcentaje de Outliers': 2.98}, {'Variable': 'fatals', 'Outliers': 103454, 'Lower Limit': 1.0, 'Upper Limit': 1.0, 'Porcentaje de Outliers': 8.25}, {'Variable': 'peds', 'Outliers': 225024, 'Lower Limit': 0.0, 'Upper Limit': 0.0, 'Porcentaje de Outliers': 17.94}, {'Variable': 'arr_hour', 'Outliers': 0, 'Lower Limit': -8.5, 'Upper Limit': 35.5, 'Porcentaje de Outliers': 0.0}, {'Variable': 'arr_min', 'Outliers': 0, 'Lower Limit': -32.5, 'Upper Limit': 91.5, 'Porcentaje de Outliers': 0.0}, {'Variable': 'year', 'Outliers': 0, 'Lower Limit': 2013.5, 'Upper Limit': 2025.5, 'Porcentaje de Outliers': 0.0}, {'Variable': 'hour', 'Outliers': 5440, 'Lower Limit': -8.5, 'Upper Limit': 35.5, 'Porcentaje de Outliers': 0.43}, {'Variable': 'minute', 'Outliers': 5452, 'Lower Limit': -31.0, 'Upper Limit': 89.0, 'Porcentaje de Outliers': 0.43}, {'Variable': 'state', 'Outliers': 0, 'Lower Limit': -21.0, 'Upper Limit': 75.0, 'Porcentaje de Outliers': 0.0}, {'Variable': 'age', 'Outliers': 22747, 'Lower Limit': -25.5, 'Upper Limit': 106.5, 'Porcentaje de Outliers': 1.81}, {'Variable': 'alc_res', 'Outliers': 0, 'Lower Limit': -1494.0, 'Upper Limit': 2490.0, 'Porcentaje de Outliers': 0.0}]\n"
     ]
    }
   ],
   "source": [
    "numerical_cols = df.select_dtypes(include=['int64', 'float64']).columns\n",
    "\n",
    "outlier_log = []\n",
    "\n",
    "for col in numerical_cols:\n",
    "    print(f\"\\n--- Analyzing Outliers for '{col}' ---\")\n",
    "\n",
    "    Q1 = df[col].quantile(0.25)\n",
    "    Q3 = df[col].quantile(0.75)\n",
    "    IQR = Q3 - Q1\n",
    "    lower_limit = Q1 - 1.5 * IQR\n",
    "    upper_limit = Q3 + 1.5 * IQR\n",
    "\n",
    "    outliers = df[(df[col] < lower_limit) | (df[col] > upper_limit)]\n",
    "    num_outliers = len(outliers)\n",
    "\n",
    "    print(f\"Number of Outliers: {num_outliers}\")\n",
    "    print(f\"Lower Limit: {lower_limit:.2f}, Upper Limit: {upper_limit:.2f}\")\n",
    "\n",
    "    outlier_log.append({\n",
    "        'Variable': col,\n",
    "        'Outliers': num_outliers,\n",
    "        'Lower Limit': lower_limit,\n",
    "        'Upper Limit': upper_limit,\n",
    "        'Porcentaje de Outliers': round(num_outliers / len(df) * 100, 2)\n",
    "    })\n",
    "\n",
    "print(\"\\nResumen de Outliers:\")\n",
    "print(outlier_log)\n"
   ]
  },
  {
   "cell_type": "markdown",
   "id": "4dbb8b4f",
   "metadata": {},
   "source": [
    "# Transformations for the dimensional modeling"
   ]
  },
  {
   "cell_type": "code",
   "execution_count": 41,
   "id": "3a19e369",
   "metadata": {},
   "outputs": [
    {
     "data": {
      "text/plain": [
       "Index(['ve_total', 'fatals', 'peds', 'arr_hour', 'arr_min', 'year',\n",
       "       'monthname', 'day_weekname', 'hour', 'minute', 'state', 'statename',\n",
       "       'rur_urbname', 'func_sysname', 'weathername', 'lgt_condname',\n",
       "       'harm_evname', 'age', 'sex', 'alc_res'],\n",
       "      dtype='object')"
      ]
     },
     "execution_count": 41,
     "metadata": {},
     "output_type": "execute_result"
    }
   ],
   "source": [
    "df.columns"
   ]
  },
  {
   "cell_type": "code",
   "execution_count": 42,
   "id": "3b36e930",
   "metadata": {},
   "outputs": [],
   "source": [
    "df = df.drop(columns=['statename', 'state'])"
   ]
  },
  {
   "cell_type": "code",
   "execution_count": 43,
   "id": "b136be71",
   "metadata": {},
   "outputs": [
    {
     "data": {
      "text/plain": [
       "array(['Daylight', 'Dark - Lighted', 'Dark - Not Lighted', 'Dusk', 'Dawn',\n",
       "       'Dark - Unknown Lighting'], dtype=object)"
      ]
     },
     "execution_count": 43,
     "metadata": {},
     "output_type": "execute_result"
    }
   ],
   "source": [
    "df[\"lgt_condname\"].unique()"
   ]
  },
  {
   "cell_type": "code",
   "execution_count": 44,
   "id": "8a8935d0",
   "metadata": {},
   "outputs": [],
   "source": [
    "visibility_mapping = {\n",
    "    'Daylight': 'Alta',\n",
    "    'Dawn': 'Moderada',\n",
    "    'Dusk': 'Moderada',\n",
    "    'Dark - Lighted': 'Baja',\n",
    "    'Dark - Not Lighted': 'Muy Baja',\n",
    "    'Dark - Unknown Lighting': 'Muy Baja',\n",
    "    'Unknown': 'Unknown',\n",
    "    'Not Reported': 'Unknown',\n",
    "    'Reported as Unknown': 'Unknown',\n",
    "    'Other': 'Unknown'\n",
    "}\n",
    "\n",
    "df[\"lgt_condname\"] = df[\"lgt_condname\"].map(visibility_mapping)"
   ]
  },
  {
   "cell_type": "code",
   "execution_count": 45,
   "id": "a5f943d6",
   "metadata": {},
   "outputs": [
    {
     "name": "stdout",
     "output_type": "stream",
     "text": [
      "[  0 996 288 166 235 195 273 209  80 173 999 154 167  33 153 187 159 112\n",
      " 234 146  81 183  35 197 188 210  25 174 157 247 238 300 150 116 182 229\n",
      " 278  89  12  34 236 175  53 181 126 130 262 401 252 233  64 108 165  55\n",
      " 192 237 204  60 225  45  10 142  71 256 135  41 186  92 172  57 223 330\n",
      " 141  23 137 111  11 246 271 265  51 212 301 263  78 214 205 143 331 302\n",
      " 117  20 155  96 218 176 115  94 287 105  82  14 148 121 162  79  83 269\n",
      " 284 151 325 133  15 281 190 199 101  13 161  37  26 179 245 124 251 177\n",
      " 217 280  18  59 298  52  30 270 242 346 226 156 139 221  87 109  19  16\n",
      " 119 215 152 127 100  54 282 294 158 149 316  88 313 296 230  17 312 241\n",
      " 244 277 122 249 120 227 104 207  36 170  43  84 264 577 310 353 261 248\n",
      " 382  98 213 185 169  85 118 191 318 253 254 198 189 202 106 293 102  22\n",
      "  70 144 180 309 134 147 283 308 224 289 206 129  47  86 193  97  40 131\n",
      " 307 324 132 997 107 267 612  21 196 231  32  66 160 268 240 114 400 232\n",
      " 319 339 211 255 259 138 290 257  39 184  68 178 140 940  95 286 110 368\n",
      " 250  74  62  93 200 128 145 320  56 125  91  77 326 220  61 276 103  27\n",
      "  90 216 304  69  76 163  31 315 358 305 219 266 279  28 258  75  73 295\n",
      " 274 228 123 321 416 351 260 275 203 136 550 347  42 311 374  29 314 362\n",
      " 164 171 299 113 168 533 334  46  65  44 335 208 333 243  72 285  48  99\n",
      "   6 637 372 554 327  63  50 348 344 369 341 350 222 548 375  38  49 398\n",
      " 323 433 390 343 389 422 397 303 998 995 306 425  24 291 383 201   2 340\n",
      " 194 417   7 399 396  67 406 373 431 420 440 371 365 329 342 336 370   9\n",
      "  58 411 473 432 360 495 332 419 345 430 297 364 272 355 405 589 292 486\n",
      " 352 464 387 378 410 322 380 530 385 381 317 394   1   3 349 338 413 423\n",
      " 391 337 239 508 379 595 363 328 354 377 493 407 376 424 520 393   8 395\n",
      " 500   4   5 366 408 485 437 361 471 359 450 482 412 402 497 540 443 484\n",
      " 434 470 460 712 357 510 367 740 580 690 490 386 384 427 458 404 506 570\n",
      " 415 409 392 574 474 895 356 560 463 445 403 461 442 475 388 455 428 905\n",
      " 452 414 421 488 544 734 426 436 438 467 644 930 688 469 600 448 539 630\n",
      " 441 480 662 453 521 491 514 451 640 626 529 418 476 429 590 502 664 457\n",
      " 489 725 532 658 549 479 840 494 780 483 708 542 456 558 447 499 516 496\n",
      " 439 750 850]\n"
     ]
    }
   ],
   "source": [
    "print(df['alc_res'].unique())"
   ]
  },
  {
   "cell_type": "code",
   "execution_count": 46,
   "id": "ed552c3b",
   "metadata": {},
   "outputs": [
    {
     "name": "stdout",
     "output_type": "stream",
     "text": [
      "    ve_total  fatals  peds  arr_hour  arr_min  year monthname day_weekname  \\\n",
      "15         1       1     0        15        9  2017  February      Tuesday   \n",
      "16         1       1     0        15        9  2017  February      Tuesday   \n",
      "18         1       1     0        15        9  2017  February      Tuesday   \n",
      "19         1       1     0        15        9  2017  February      Tuesday   \n",
      "20         1       1     0        15        9  2017  February      Tuesday   \n",
      "\n",
      "    hour  minute rur_urbname func_sysname weathername lgt_condname  \\\n",
      "15    14      59       Urban   Interstate       Clear         Alta   \n",
      "16    14      59       Urban   Interstate       Clear         Alta   \n",
      "18    14      59       Urban   Interstate       Clear         Alta   \n",
      "19    14      59       Urban   Interstate       Clear         Alta   \n",
      "20    14      59       Urban   Interstate       Clear         Alta   \n",
      "\n",
      "          harm_evname  age     sex alc_res  \n",
      "15  Rollover/Overturn   43    Male    Bajo  \n",
      "16  Rollover/Overturn   24    Male   Letal  \n",
      "18  Rollover/Overturn   42  Female    Bajo  \n",
      "19  Rollover/Overturn   54  Female   Letal  \n",
      "20  Rollover/Overturn   40  Female    Bajo  \n"
     ]
    }
   ],
   "source": [
    "# Convertir el BAC a su valor real en g/dL\n",
    "df['alc_res'] = df['alc_res'] / 1000\n",
    "\n",
    "# Función de clasificación\n",
    "def clasificar_bac(bac):\n",
    "    if bac <= 0.03:\n",
    "        return \"Bajo\"\n",
    "    elif bac <= 0.08:\n",
    "        return \"Moderado\"\n",
    "    elif bac <= 0.20:\n",
    "        return \"Alto\"\n",
    "    elif bac <= 0.40:\n",
    "        return \"Peligroso\"\n",
    "    else:\n",
    "        return \"Letal\"\n",
    "\n",
    "# Aplicar la función\n",
    "df['alc_res'] = df['alc_res'].apply(clasificar_bac)\n",
    "\n",
    "# Mostrar el resultado\n",
    "print(df.head())\n"
   ]
  },
  {
   "cell_type": "code",
   "execution_count": 47,
   "id": "b2fbbf64",
   "metadata": {},
   "outputs": [
    {
     "data": {
      "text/plain": [
       "array(['Clear', 'Rain', 'Cloudy', 'Fog, Smog, Smoke', 'Snow',\n",
       "       'Sleet or Hail', 'Freezing Rain or Drizzle',\n",
       "       'Blowing Sand, Soil, Dirt', 'Severe Crosswinds', 'Blowing Snow'],\n",
       "      dtype=object)"
      ]
     },
     "execution_count": 47,
     "metadata": {},
     "output_type": "execute_result"
    }
   ],
   "source": [
    "df[\"weathername\"].unique()"
   ]
  },
  {
   "cell_type": "code",
   "execution_count": 48,
   "id": "b4747690",
   "metadata": {},
   "outputs": [],
   "source": [
    "weather_map = {\n",
    "    'Clear': 'Clear',\n",
    "    'Rain': 'Rainy',\n",
    "    'Cloudy': 'Windy',\n",
    "    'Fog, Smog, Smoke': 'Foggy',\n",
    "    'Snow': 'Snowy',\n",
    "    'Sleet or Hail': 'Snowy',\n",
    "    'Freezing Rain or Drizzle': 'Rainy',\n",
    "    'Blowing Snow': 'Snowy',\n",
    "    'Blowing Sand, Soil, Dirt': 'Windy',\n",
    "    'Severe Crosswinds': 'Windy',\n",
    "    'Clear': 'Clear',\n",
    "    'Not Reported': 'Unknown',\n",
    "    'Other': 'Unknown',\n",
    "    'Reported as Unknown': 'Unknown'\n",
    "    # 'Unknown' se mantiene igual\n",
    "}\n",
    "\n",
    "# Aplicamos el reemplazo\n",
    "df['weathername'] = df['weathername'].replace(weather_map)\n"
   ]
  },
  {
   "cell_type": "code",
   "execution_count": 49,
   "id": "d8648b24",
   "metadata": {},
   "outputs": [
    {
     "data": {
      "text/plain": [
       "array([99, 15, 16, 20, 18, 17, 14,  4,  5, 22,  0,  2, 23,  7, 19,  9, 11,\n",
       "        1,  6, 13,  3, 10,  8, 21, 12, 88], dtype=int64)"
      ]
     },
     "execution_count": 49,
     "metadata": {},
     "output_type": "execute_result"
    }
   ],
   "source": [
    "accidents['arr_hour'].unique()"
   ]
  },
  {
   "cell_type": "code",
   "execution_count": 50,
   "id": "117cf400",
   "metadata": {},
   "outputs": [
    {
     "data": {
      "text/plain": [
       "0"
      ]
     },
     "execution_count": 50,
     "metadata": {},
     "output_type": "execute_result"
    }
   ],
   "source": [
    "df[df[\"arr_hour\"] == 99][\"arr_hour\"].nunique()"
   ]
  },
  {
   "cell_type": "code",
   "execution_count": 51,
   "id": "f294c131",
   "metadata": {},
   "outputs": [
    {
     "data": {
      "text/plain": [
       "0"
      ]
     },
     "execution_count": 51,
     "metadata": {},
     "output_type": "execute_result"
    }
   ],
   "source": [
    "df[df[\"arr_hour\"] == 88][\"arr_hour\"].nunique()"
   ]
  },
  {
   "cell_type": "code",
   "execution_count": 52,
   "id": "75a33445",
   "metadata": {},
   "outputs": [
    {
     "data": {
      "text/plain": [
       "0"
      ]
     },
     "execution_count": 52,
     "metadata": {},
     "output_type": "execute_result"
    }
   ],
   "source": [
    "df[df[\"arr_min\"].isin([88, 97, 98, 99])][\"arr_hour\"].nunique()"
   ]
  },
  {
   "cell_type": "code",
   "execution_count": 53,
   "id": "f89168f9",
   "metadata": {},
   "outputs": [
    {
     "data": {
      "text/plain": [
       "array([ 9, 58, 31, 46, 10, 40, 39,  0, 30, 15, 42, 23, 50, 59, 17, 45, 53,\n",
       "        5,  6, 35, 27, 47, 55, 43, 25, 44,  1,  3, 28,  4, 34, 48, 33, 36,\n",
       "       54,  8, 56,  7, 49, 12, 32, 20, 22, 21,  2, 24, 26, 16, 41, 52, 11,\n",
       "       13, 38, 51, 18, 29, 19, 37, 14, 57], dtype=int64)"
      ]
     },
     "execution_count": 53,
     "metadata": {},
     "output_type": "execute_result"
    }
   ],
   "source": [
    "df['arr_min'].unique()"
   ]
  },
  {
   "cell_type": "code",
   "execution_count": 54,
   "id": "db0c5e51",
   "metadata": {},
   "outputs": [
    {
     "name": "stdout",
     "output_type": "stream",
     "text": [
      "         arr_hour  arr_min  arr_time\n",
      "15             15        9  15:09:00\n",
      "16             15        9  15:09:00\n",
      "18             15        9  15:09:00\n",
      "19             15        9  15:09:00\n",
      "20             15        9  15:09:00\n",
      "...           ...      ...       ...\n",
      "3012883         5       25  05:25:00\n",
      "3012884         5       25  05:25:00\n",
      "3012885         5       25  05:25:00\n",
      "3012886         5       25  05:25:00\n",
      "3012887         5       25  05:25:00\n",
      "\n",
      "[1254597 rows x 3 columns]\n"
     ]
    }
   ],
   "source": [
    "from datetime import time\n",
    "\n",
    "# Aseguramos que no haya NaN y convertimos\n",
    "df['arr_hour'] = df['arr_hour'].fillna(0).astype(int)\n",
    "df['arr_min'] = df['arr_min'].fillna(0).astype(int)\n",
    "\n",
    "# Creamos la columna con objetos tipo datetime.time\n",
    "df['arr_time'] = df.apply(lambda row: time(row['arr_hour'], row['arr_min']), axis=1)\n",
    "\n",
    "print(df[['arr_hour', 'arr_min', 'arr_time']])\n"
   ]
  },
  {
   "cell_type": "code",
   "execution_count": 55,
   "id": "4b2cf74d",
   "metadata": {},
   "outputs": [
    {
     "data": {
      "text/plain": [
       "array([14, 16, 20, 18,  4, 21, 17,  0,  1, 23, 19,  8, 11,  6, 13,  3,  2,\n",
       "        9,  5,  7, 15, 22, 10, 99, 12], dtype=int64)"
      ]
     },
     "execution_count": 55,
     "metadata": {},
     "output_type": "execute_result"
    }
   ],
   "source": [
    "df['hour'].unique()"
   ]
  },
  {
   "cell_type": "code",
   "execution_count": 56,
   "id": "52b52bb7",
   "metadata": {},
   "outputs": [
    {
     "data": {
      "text/plain": [
       "array([59, 55,  0, 40, 50, 30, 35, 34,  5, 10, 15, 48,  1, 44, 45, 27, 23,\n",
       "       14, 20, 36,  8, 42, 43, 38, 32, 16, 46, 58,  4, 19, 25,  3, 39, 11,\n",
       "       53, 57, 52, 21, 28, 29, 18, 41, 37, 24, 49,  9, 99, 22, 26, 12, 47,\n",
       "       17,  7,  2, 33, 31, 54,  6, 51, 13, 56], dtype=int64)"
      ]
     },
     "execution_count": 56,
     "metadata": {},
     "output_type": "execute_result"
    }
   ],
   "source": [
    "df['minute'].unique()"
   ]
  },
  {
   "cell_type": "code",
   "execution_count": 57,
   "id": "3538de00",
   "metadata": {},
   "outputs": [
    {
     "name": "stdout",
     "output_type": "stream",
     "text": [
      "         hour  minute      time\n",
      "15         14      59  14:59:00\n",
      "16         14      59  14:59:00\n",
      "18         14      59  14:59:00\n",
      "19         14      59  14:59:00\n",
      "20         14      59  14:59:00\n",
      "...       ...     ...       ...\n",
      "3012883     4      57  04:57:00\n",
      "3012884     4      57  04:57:00\n",
      "3012885     4      57  04:57:00\n",
      "3012886     4      57  04:57:00\n",
      "3012887     4      57  04:57:00\n",
      "\n",
      "[1249145 rows x 3 columns]\n"
     ]
    }
   ],
   "source": [
    "df = df[~df['hour'].isin([99, 98])]\n",
    "df = df[~df['minute'].isin([99, 98])]\n",
    "\n",
    "# Aseguramos que no haya NaN y convertimos\n",
    "df['hour'] = df['hour'].fillna(0).astype(int)\n",
    "df['minute'] = df['minute'].fillna(0).astype(int)\n",
    "\n",
    "# Creamos la columna con objetos tipo datetime.time\n",
    "df['time'] = df.apply(lambda row: time(row['hour'], row['minute']), axis=1)\n",
    "\n",
    "print(df[['hour', 'minute', 'time']])"
   ]
  },
  {
   "cell_type": "code",
   "execution_count": null,
   "id": "c3d5b5c9",
   "metadata": {},
   "outputs": [
    {
     "name": "stdout",
     "output_type": "stream",
     "text": [
      "             time  arr_time diff_time\n",
      "15       14:59:00  15:09:00  00:10:00\n",
      "16       14:59:00  15:09:00  00:10:00\n",
      "18       14:59:00  15:09:00  00:10:00\n",
      "19       14:59:00  15:09:00  00:10:00\n",
      "20       14:59:00  15:09:00  00:10:00\n",
      "...           ...       ...       ...\n",
      "3012883  04:57:00  05:25:00  00:28:00\n",
      "3012884  04:57:00  05:25:00  00:28:00\n",
      "3012885  04:57:00  05:25:00  00:28:00\n",
      "3012886  04:57:00  05:25:00  00:28:00\n",
      "3012887  04:57:00  05:25:00  00:28:00\n",
      "\n",
      "[1249145 rows x 3 columns]\n"
     ]
    }
   ],
   "source": [
    "df = df[~df['hour'].isin([99, 98])]\n",
    "df = df[~df['minute'].isin([99, 98])]\n",
    "\n",
    "\n",
    "# Función para calcular la diferencia entre dos objetos time\n",
    "def time_diff(t1, t2):\n",
    "    df = df[~df['hour'].isin([99, 98])]\n",
    "df = df[~df['minute'].isin([99, 98])]\n",
    "\n",
    "    # Convertir a datetime con una fecha ficticia\n",
    "    dt1 = datetime(2023, 1, 1, t1.hour, t1.minute, t1.second)\n",
    "    dt2 = datetime(2023, 1, 1, t2.hour, t2.minute, t2.second)\n",
    "    \n",
    "    # Calcular diferencia (arr_time - time)\n",
    "    diff = dt2 - dt1\n",
    "    \n",
    "    # Si arr_time es menor que time, asumir que es del día siguiente\n",
    "    if diff.total_seconds() < 0:\n",
    "        dt2 = datetime(2023, 1, 2, t2.hour, t2.minute, t2.second)  # Día siguiente\n",
    "        diff = dt2 - dt1\n",
    "    \n",
    "    # Convertir la diferencia a horas, minutos, segundos\n",
    "    total_seconds = diff.total_seconds()\n",
    "    hours = int(total_seconds // 3600) % 24  # Tomar módulo 24 para mantener horas en 0-23\n",
    "    minutes = int((total_seconds % 3600) // 60)\n",
    "    seconds = int(total_seconds % 60)\n",
    "    \n",
    "    return time(hours, minutes, seconds)\n",
    "\n",
    "# Manejar valores nulos y calcular la diferencia\n",
    "df['diff_time'] = df.apply(\n",
    "    lambda row: time_diff(row['time'], row['arr_time']) \n",
    "    if pd.notnull(row['time']) and pd.notnull(row['arr_time']) \n",
    "    else None, \n",
    "    axis=1\n",
    ")\n",
    "\n",
    "# Mostrar el resultado\n",
    "print(df[['time', 'arr_time', 'diff_time']])"
   ]
  },
  {
   "cell_type": "code",
   "execution_count": null,
   "metadata": {},
   "outputs": [],
   "source": [
    "# Función para categorizar la hora\n",
    "def categorize_time(row):\n",
    "    hour = row.hour\n",
    "    if 5 <= hour < 12:\n",
    "        return \"Morning\"\n",
    "    elif 12 <= hour < 17:\n",
    "        return \"Afternoon\"\n",
    "    elif 17 <= hour < 21:\n",
    "        return \"Evening\"\n",
    "    else:\n",
    "        return \"Night\"\n",
    "\n",
    "# Aplicamos la función a la columna time para crear la nueva columna categórica\n",
    "df['time'] = df['time'].apply(categorize_time).astype(\"category\")\n",
    "\n",
    "print(df[['time']])"
   ]
  },
  {
   "cell_type": "code",
   "execution_count": 60,
   "id": "0c5c07b0",
   "metadata": {},
   "outputs": [
    {
     "data": {
      "text/plain": [
       "Index(['ve_total', 'fatals', 'peds', 'arr_hour', 'arr_min', 'year',\n",
       "       'monthname', 'day_weekname', 'hour', 'minute', 'rur_urbname',\n",
       "       'func_sysname', 'weathername', 'lgt_condname', 'harm_evname', 'age',\n",
       "       'sex', 'alc_res', 'arr_time', 'time', 'diff_time', 'time_of_day'],\n",
       "      dtype='object')"
      ]
     },
     "execution_count": 60,
     "metadata": {},
     "output_type": "execute_result"
    }
   ],
   "source": [
    "df.columns"
   ]
  },
  {
   "cell_type": "code",
   "execution_count": 61,
   "id": "6a036037",
   "metadata": {},
   "outputs": [
    {
     "data": {
      "text/plain": [
       "array(['Interstate', 'Minor Arterial', 'Principal Arterial - Other',\n",
       "       'Major Collector', 'Minor Collector', 'Local',\n",
       "       'Principal Arterial - Other Freeways and Expressways'],\n",
       "      dtype=object)"
      ]
     },
     "execution_count": 61,
     "metadata": {},
     "output_type": "execute_result"
    }
   ],
   "source": [
    "df['func_sysname'].unique()"
   ]
  },
  {
   "cell_type": "markdown",
   "id": "e96568ed",
   "metadata": {},
   "source": [
    "Tabla de correspondencias entre `func_sysname` y los valores únicos en `'road_type'` del modelo dimensional:\n",
    "\n",
    "|  `func_sysname` | Correspondencia con `road_type` |\n",
    "|------------|--------------------------------|\n",
    "| Interstate | Highway                        |\n",
    "| Principal Arterial – Other Freeways and Expressways | Highway |\n",
    "| Principal Arterial – Other | Main Road |\n",
    "| Minor Arterial | Main Road |\n",
    "| Major Collector | Main Road |\n",
    "| Minor Collector | Street |\n",
    "| Local | Street |\n"
   ]
  },
  {
   "cell_type": "code",
   "execution_count": 62,
   "id": "850fa9d3",
   "metadata": {},
   "outputs": [],
   "source": [
    "# Diccionario de mapeo entre 'func_sysname' y 'road_type'\n",
    "mapping = {\n",
    "    'Interstate': 'Highway',\n",
    "    'Principal Arterial - Other Freeways and Expressways': 'Highway',\n",
    "    'Principal Arterial - Other': 'Main Road',\n",
    "    'Minor Arterial': 'Main Road',\n",
    "    'Major Collector': 'Main Road',\n",
    "    'Minor Collector': 'Street',\n",
    "    'Local': 'Street'\n",
    "}\n",
    "\n",
    "# Aplicar el mapeo en la columna 'func_sysname'\n",
    "df['func_sysname'] = df['func_sysname'].map(mapping)"
   ]
  },
  {
   "cell_type": "code",
   "execution_count": 63,
   "id": "9196207c",
   "metadata": {},
   "outputs": [
    {
     "data": {
      "text/plain": [
       "array(['Highway', 'Main Road', 'Street'], dtype=object)"
      ]
     },
     "execution_count": 63,
     "metadata": {},
     "output_type": "execute_result"
    }
   ],
   "source": [
    "df['func_sysname'].unique()"
   ]
  },
  {
   "cell_type": "code",
   "execution_count": 64,
   "id": "1f874e9b",
   "metadata": {},
   "outputs": [
    {
     "data": {
      "text/plain": [
       "array([ 43,  24,  42,  54,  40,  51,  31,  32,  60,  66,  34,  57,  55,\n",
       "        23,  18,  58,  26,  28,  41,  17,  20,  80,  67,  46,  30,  47,\n",
       "        13,  27, 999,  37,  12,  14,  38,   6,   5,  70,  64,  74,   0,\n",
       "        81,  50,  45,  49,   4,  21,  79,  86,  91,  36,  56,  35,  65,\n",
       "        77,   2,  39,  78,  48,  11,  62,  15,  53,  63,  19,  16,  75,\n",
       "        89,  76,  61,  33,  84,  82,  22,  25,  52,   9,   8,  44,  29,\n",
       "        71,  69,  10,  68, 998,  73,  72,  59,  85,  83,  97,  87,   3,\n",
       "         7,  88,   1,  90,  93,  92,  94,  96,  98,  95, 105, 101,  99,\n",
       "       103, 107, 100, 117, 102, 118, 104], dtype=int64)"
      ]
     },
     "execution_count": 64,
     "metadata": {},
     "output_type": "execute_result"
    }
   ],
   "source": [
    "df[\"age\"].unique()"
   ]
  },
  {
   "cell_type": "code",
   "execution_count": 65,
   "id": "9efc68be",
   "metadata": {},
   "outputs": [
    {
     "name": "stdout",
     "output_type": "stream",
     "text": [
      "15         41-60\n",
      "16         18-25\n",
      "18         41-60\n",
      "19         41-60\n",
      "20         26-40\n",
      "           ...  \n",
      "3012883    41-60\n",
      "3012884    26-40\n",
      "3012885    41-60\n",
      "3012886    26-40\n",
      "3012887    18-25\n",
      "Name: age, Length: 1226517, dtype: object\n"
     ]
    }
   ],
   "source": [
    "# Elimina las filas con edades inválidas (998 y 999)\n",
    "df = df[~df['age'].isin([998, 999])]\n",
    "\n",
    "def map_driver_age(age):\n",
    "    if age < 18:\n",
    "        return '<18'\n",
    "    elif 18 <= age <= 25:\n",
    "        return '18-25'\n",
    "    elif 26 <= age <= 40:\n",
    "        return '26-40'\n",
    "    elif 41 <= age <= 60:\n",
    "        return '41-60'\n",
    "    elif age > 60:\n",
    "        return '61+'\n",
    "\n",
    "df['age'] = df['age'].apply(map_driver_age)\n",
    "\n",
    "print(df['age'])\n"
   ]
  },
  {
   "cell_type": "code",
   "execution_count": 66,
   "id": "2f86aff1",
   "metadata": {},
   "outputs": [
    {
     "data": {
      "text/plain": [
       "Index(['ve_total', 'fatals', 'peds', 'arr_hour', 'arr_min', 'year',\n",
       "       'monthname', 'day_weekname', 'hour', 'minute', 'rur_urbname',\n",
       "       'func_sysname', 'weathername', 'lgt_condname', 'harm_evname', 'age',\n",
       "       'sex', 'alc_res', 'arr_time', 'time', 'diff_time', 'time_of_day'],\n",
       "      dtype='object')"
      ]
     },
     "execution_count": 66,
     "metadata": {},
     "output_type": "execute_result"
    }
   ],
   "source": [
    "df.columns"
   ]
  },
  {
   "cell_type": "code",
   "execution_count": 67,
   "id": "beb5ac2d",
   "metadata": {},
   "outputs": [],
   "source": [
    "column_rename_map = {\n",
    "    've_total': 'number_of_vehicles_involved',\n",
    "    'fatals': 'number_of_fatalities',\n",
    "    'peds': 'pedestrians_involved',\n",
    "    'year': 'year',\n",
    "    'monthname': 'month',\n",
    "    'day_weekname': 'day_of_week',\n",
    "    'rur_urbname': 'urban_rural',\n",
    "    'func_sysname': 'road_type',\n",
    "    'weathername': 'weather_conditions',\n",
    "    'lgt_condname': 'visibility_level',\n",
    "    'harm_evname': 'accident_cause',\n",
    "    'age': 'driver_age_group',\n",
    "    'sex': 'driver_gender',\n",
    "    'alc_res': 'driver_alcohol_level',\n",
    "    'diff_time': 'emergency_response_time',\n",
    "    'time': 'time_of_day'\n",
    "}\n",
    "\n",
    "df.rename(columns=column_rename_map, inplace=True)\n"
   ]
  },
  {
   "cell_type": "code",
   "execution_count": 68,
   "id": "f8c0a230",
   "metadata": {},
   "outputs": [
    {
     "data": {
      "text/plain": [
       "Index(['number_of_vehicles_involved', 'number_of_fatalities',\n",
       "       'pedestrians_involved', 'arr_hour', 'arr_min', 'year', 'month',\n",
       "       'day_of_week', 'hour', 'minute', 'urban_rural', 'road_type',\n",
       "       'weather_conditions', 'visibility_level', 'accident_cause',\n",
       "       'driver_age_group', 'driver_gender', 'driver_alcohol_level', 'arr_time',\n",
       "       'time_of_day', 'emergency_response_time', 'time_of_day'],\n",
       "      dtype='object')"
      ]
     },
     "execution_count": 68,
     "metadata": {},
     "output_type": "execute_result"
    }
   ],
   "source": [
    "df.columns"
   ]
  },
  {
   "cell_type": "code",
   "execution_count": 69,
   "id": "65a45d55",
   "metadata": {},
   "outputs": [],
   "source": [
    "df = df.drop(columns=['hour','minute', 'arr_hour', 'arr_min', 'arr_time'])"
   ]
  },
  {
   "cell_type": "code",
   "execution_count": 70,
   "id": "4f8e5437",
   "metadata": {},
   "outputs": [
    {
     "data": {
      "text/plain": [
       "Index(['number_of_vehicles_involved', 'number_of_fatalities',\n",
       "       'pedestrians_involved', 'year', 'month', 'day_of_week', 'urban_rural',\n",
       "       'road_type', 'weather_conditions', 'visibility_level', 'accident_cause',\n",
       "       'driver_age_group', 'driver_gender', 'driver_alcohol_level',\n",
       "       'time_of_day', 'emergency_response_time', 'time_of_day'],\n",
       "      dtype='object')"
      ]
     },
     "execution_count": 70,
     "metadata": {},
     "output_type": "execute_result"
    }
   ],
   "source": [
    "df.columns"
   ]
  }
 ],
 "metadata": {
  "kernelspec": {
   "display_name": "Python (mi_entorno)",
   "language": "python",
   "name": "mi_entorno"
  },
  "language_info": {
   "codemirror_mode": {
    "name": "ipython",
    "version": 3
   },
   "file_extension": ".py",
   "mimetype": "text/x-python",
   "name": "python",
   "nbconvert_exporter": "python",
   "pygments_lexer": "ipython3",
   "version": "3.11.4"
  }
 },
 "nbformat": 4,
 "nbformat_minor": 5
}
