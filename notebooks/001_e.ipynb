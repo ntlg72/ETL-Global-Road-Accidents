{
 "cells": [
  {
   "cell_type": "markdown",
   "metadata": {},
   "source": [
    "# Ingestión y Migración de datos"
   ]
  },
  {
   "cell_type": "markdown",
   "metadata": {},
   "source": [
    "### Importación de librerías"
   ]
  },
  {
   "cell_type": "code",
   "execution_count": 12,
   "metadata": {},
   "outputs": [],
   "source": [
    "import sys\n",
    "import os\n",
    "import pandas as pd\n",
    "from psycopg2 import sql\n",
    "from sqlalchemy import create_engine\n",
    "sys.path.append(os.path.abspath('../source'))\n",
    "from connection_db.db_utils import get_connection"
   ]
  },
  {
   "cell_type": "markdown",
   "metadata": {},
   "source": [
    "sys.path.append()  permite importar módulos desde directorios que no están en la ruta de búsqueda predeterminada de Python, lo que es necesario en este caso para reutilizar un módulo creado en el directorio \"source/connection_db\" del proyecto dedicado a la conexión a la base de datos."
   ]
  },
  {
   "cell_type": "code",
   "execution_count": 13,
   "metadata": {},
   "outputs": [
    {
     "data": {
      "text/html": [
       "<div>\n",
       "<style scoped>\n",
       "    .dataframe tbody tr th:only-of-type {\n",
       "        vertical-align: middle;\n",
       "    }\n",
       "\n",
       "    .dataframe tbody tr th {\n",
       "        vertical-align: top;\n",
       "    }\n",
       "\n",
       "    .dataframe thead th {\n",
       "        text-align: right;\n",
       "    }\n",
       "</style>\n",
       "<table border=\"1\" class=\"dataframe\">\n",
       "  <thead>\n",
       "    <tr style=\"text-align: right;\">\n",
       "      <th></th>\n",
       "      <th>Country</th>\n",
       "      <th>Year</th>\n",
       "      <th>Month</th>\n",
       "      <th>Day of Week</th>\n",
       "      <th>Time of Day</th>\n",
       "      <th>Urban/Rural</th>\n",
       "      <th>Road Type</th>\n",
       "      <th>Weather Conditions</th>\n",
       "      <th>Visibility Level</th>\n",
       "      <th>Number of Vehicles Involved</th>\n",
       "      <th>...</th>\n",
       "      <th>Number of Fatalities</th>\n",
       "      <th>Emergency Response Time</th>\n",
       "      <th>Traffic Volume</th>\n",
       "      <th>Road Condition</th>\n",
       "      <th>Accident Cause</th>\n",
       "      <th>Insurance Claims</th>\n",
       "      <th>Medical Cost</th>\n",
       "      <th>Economic Loss</th>\n",
       "      <th>Region</th>\n",
       "      <th>Population Density</th>\n",
       "    </tr>\n",
       "  </thead>\n",
       "  <tbody>\n",
       "    <tr>\n",
       "      <th>0</th>\n",
       "      <td>USA</td>\n",
       "      <td>2002</td>\n",
       "      <td>October</td>\n",
       "      <td>Tuesday</td>\n",
       "      <td>Evening</td>\n",
       "      <td>Rural</td>\n",
       "      <td>Street</td>\n",
       "      <td>Windy</td>\n",
       "      <td>220.414651</td>\n",
       "      <td>1</td>\n",
       "      <td>...</td>\n",
       "      <td>2</td>\n",
       "      <td>58.625720</td>\n",
       "      <td>7412.752760</td>\n",
       "      <td>Wet</td>\n",
       "      <td>Weather</td>\n",
       "      <td>4</td>\n",
       "      <td>40499.856982</td>\n",
       "      <td>22072.878502</td>\n",
       "      <td>Europe</td>\n",
       "      <td>3866.273014</td>\n",
       "    </tr>\n",
       "    <tr>\n",
       "      <th>1</th>\n",
       "      <td>UK</td>\n",
       "      <td>2014</td>\n",
       "      <td>December</td>\n",
       "      <td>Saturday</td>\n",
       "      <td>Evening</td>\n",
       "      <td>Urban</td>\n",
       "      <td>Street</td>\n",
       "      <td>Windy</td>\n",
       "      <td>168.311358</td>\n",
       "      <td>3</td>\n",
       "      <td>...</td>\n",
       "      <td>1</td>\n",
       "      <td>58.041380</td>\n",
       "      <td>4458.628820</td>\n",
       "      <td>Snow-covered</td>\n",
       "      <td>Mechanical Failure</td>\n",
       "      <td>3</td>\n",
       "      <td>6486.600073</td>\n",
       "      <td>9534.399441</td>\n",
       "      <td>North America</td>\n",
       "      <td>2333.916224</td>\n",
       "    </tr>\n",
       "    <tr>\n",
       "      <th>2</th>\n",
       "      <td>USA</td>\n",
       "      <td>2012</td>\n",
       "      <td>July</td>\n",
       "      <td>Sunday</td>\n",
       "      <td>Afternoon</td>\n",
       "      <td>Urban</td>\n",
       "      <td>Highway</td>\n",
       "      <td>Snowy</td>\n",
       "      <td>341.286506</td>\n",
       "      <td>4</td>\n",
       "      <td>...</td>\n",
       "      <td>4</td>\n",
       "      <td>42.374452</td>\n",
       "      <td>9856.915064</td>\n",
       "      <td>Wet</td>\n",
       "      <td>Speeding</td>\n",
       "      <td>4</td>\n",
       "      <td>29164.412982</td>\n",
       "      <td>58009.145124</td>\n",
       "      <td>South America</td>\n",
       "      <td>4408.889129</td>\n",
       "    </tr>\n",
       "    <tr>\n",
       "      <th>3</th>\n",
       "      <td>UK</td>\n",
       "      <td>2017</td>\n",
       "      <td>May</td>\n",
       "      <td>Saturday</td>\n",
       "      <td>Evening</td>\n",
       "      <td>Urban</td>\n",
       "      <td>Main Road</td>\n",
       "      <td>Clear</td>\n",
       "      <td>489.384536</td>\n",
       "      <td>2</td>\n",
       "      <td>...</td>\n",
       "      <td>3</td>\n",
       "      <td>48.554014</td>\n",
       "      <td>4958.646267</td>\n",
       "      <td>Icy</td>\n",
       "      <td>Distracted Driving</td>\n",
       "      <td>3</td>\n",
       "      <td>25797.212566</td>\n",
       "      <td>20907.151302</td>\n",
       "      <td>Australia</td>\n",
       "      <td>2810.822423</td>\n",
       "    </tr>\n",
       "    <tr>\n",
       "      <th>4</th>\n",
       "      <td>Canada</td>\n",
       "      <td>2002</td>\n",
       "      <td>July</td>\n",
       "      <td>Tuesday</td>\n",
       "      <td>Afternoon</td>\n",
       "      <td>Rural</td>\n",
       "      <td>Highway</td>\n",
       "      <td>Rainy</td>\n",
       "      <td>348.344850</td>\n",
       "      <td>1</td>\n",
       "      <td>...</td>\n",
       "      <td>4</td>\n",
       "      <td>18.318250</td>\n",
       "      <td>3843.191463</td>\n",
       "      <td>Icy</td>\n",
       "      <td>Distracted Driving</td>\n",
       "      <td>8</td>\n",
       "      <td>15605.293921</td>\n",
       "      <td>13584.060759</td>\n",
       "      <td>South America</td>\n",
       "      <td>3883.645634</td>\n",
       "    </tr>\n",
       "  </tbody>\n",
       "</table>\n",
       "<p>5 rows × 30 columns</p>\n",
       "</div>"
      ],
      "text/plain": [
       "  Country  Year     Month Day of Week Time of Day Urban/Rural  Road Type  \\\n",
       "0     USA  2002   October     Tuesday     Evening       Rural     Street   \n",
       "1      UK  2014  December    Saturday     Evening       Urban     Street   \n",
       "2     USA  2012      July      Sunday   Afternoon       Urban    Highway   \n",
       "3      UK  2017       May    Saturday     Evening       Urban  Main Road   \n",
       "4  Canada  2002      July     Tuesday   Afternoon       Rural    Highway   \n",
       "\n",
       "  Weather Conditions  Visibility Level  Number of Vehicles Involved  ...  \\\n",
       "0              Windy        220.414651                            1  ...   \n",
       "1              Windy        168.311358                            3  ...   \n",
       "2              Snowy        341.286506                            4  ...   \n",
       "3              Clear        489.384536                            2  ...   \n",
       "4              Rainy        348.344850                            1  ...   \n",
       "\n",
       "   Number of Fatalities Emergency Response Time Traffic Volume  \\\n",
       "0                     2               58.625720    7412.752760   \n",
       "1                     1               58.041380    4458.628820   \n",
       "2                     4               42.374452    9856.915064   \n",
       "3                     3               48.554014    4958.646267   \n",
       "4                     4               18.318250    3843.191463   \n",
       "\n",
       "   Road Condition      Accident Cause Insurance Claims  Medical Cost  \\\n",
       "0             Wet             Weather                4  40499.856982   \n",
       "1    Snow-covered  Mechanical Failure                3   6486.600073   \n",
       "2             Wet            Speeding                4  29164.412982   \n",
       "3             Icy  Distracted Driving                3  25797.212566   \n",
       "4             Icy  Distracted Driving                8  15605.293921   \n",
       "\n",
       "   Economic Loss         Region  Population Density  \n",
       "0   22072.878502         Europe         3866.273014  \n",
       "1    9534.399441  North America         2333.916224  \n",
       "2   58009.145124  South America         4408.889129  \n",
       "3   20907.151302      Australia         2810.822423  \n",
       "4   13584.060759  South America         3883.645634  \n",
       "\n",
       "[5 rows x 30 columns]"
      ]
     },
     "execution_count": 13,
     "metadata": {},
     "output_type": "execute_result"
    }
   ],
   "source": [
    "data= pd.read_csv('../data/road_accident_dataset.csv')\n",
    "data.head(n=5)"
   ]
  },
  {
   "cell_type": "markdown",
   "metadata": {},
   "source": [
    "Para asegurar una correcta integración de los datos, primero se transforman los nombres de las columnas a un formato estandarizado, convirtiéndolos en minúsculas y reemplazando los espacios con guiones bajos"
   ]
  },
  {
   "cell_type": "code",
   "execution_count": 14,
   "metadata": {},
   "outputs": [],
   "source": [
    "def format_column_name(column_name: str) -> str:\n",
    "    return column_name.strip().lower().replace(\" \", \"_\").replace(\"/\", \"_\")\n"
   ]
  },
  {
   "cell_type": "markdown",
   "metadata": {},
   "source": [
    "Este fragmento de código define una función llamada get_engine(), que crea y devuelve un motor de conexión a una base de datos PostgreSQL utilizando SQLAlchemy. La conexión se establece a través de variables de entorno (PG_USER, PG_PASSWORD, PG_HOST, PG_PORT y PG_DATABASE), lo que permite mantener las credenciales y la configuración del acceso de forma segura sin exponerlas directamente en el código."
   ]
  },
  {
   "cell_type": "code",
   "execution_count": 15,
   "metadata": {},
   "outputs": [],
   "source": [
    "def get_engine():\n",
    "    return create_engine(\n",
    "        f\"postgresql://{os.getenv('PG_USER')}:{os.getenv('PG_PASSWORD')}@{os.getenv('PG_HOST')}:{os.getenv('PG_PORT')}/{os.getenv('PG_DATABASE')}\"\n",
    "    )"
   ]
  },
  {
   "cell_type": "code",
   "execution_count": 16,
   "metadata": {},
   "outputs": [
    {
     "name": "stdout",
     "output_type": "stream",
     "text": [
      "132000 registros insertados.\n"
     ]
    }
   ],
   "source": [
    "def insert_data(df: pd.DataFrame):\n",
    "    \"\"\"Inserta un DataFrame en la tabla 'accidents' de PostgreSQL.\"\"\"\n",
    "    try:\n",
    "        # Transformar los nombres de las columnas automáticamente\n",
    "        df.columns = [format_column_name(col) for col in df.columns]\n",
    "\n",
    "        # Reemplazar valores NaN con None (compatibilidad con PostgreSQL)\n",
    "        df = df.where(pd.notna(df), None)\n",
    "\n",
    "        # Insertar los datos\n",
    "        engine = get_engine()\n",
    "        df.to_sql(name=\"accidents\", con=engine, if_exists='replace', index=False)\n",
    "\n",
    "        print(f\"{len(df)} registros insertados.\")\n",
    "    except Exception as e:\n",
    "        print(f\"Error al insertar datos: {e}\")\n",
    "\n",
    "insert_data(data)"
   ]
  },
  {
   "cell_type": "code",
   "execution_count": null,
   "metadata": {},
   "outputs": [
    {
     "name": "stdout",
     "output_type": "stream",
     "text": [
      "132000 registros insertados.\n"
     ]
    }
   ],
   "source": [
    "def insert_data(df: pd.DataFrame):\n",
    "    \"\"\"Inserta un DataFrame en la tabla 'accidents' de PostgreSQL.\"\"\"\n",
    "    try:\n",
    "        # Transformar los nombres de las columnas automáticamente\n",
    "        df.columns = [format_column_name(col) for col in df.columns]\n",
    "\n",
    "        # Reemplazar valores NaN con None (compatibilidad con PostgreSQL)\n",
    "        df = df.where(pd.notna(df), None)\n",
    "\n",
    "        # Insertar los datos\n",
    "        engine = get_engine()\n",
    "        df.to_sql(name=\"accidents\", con=engine, if_exists='replace', index=False)\n",
    "\n",
    "        print(f\"{len(df)} registros insertados.\")\n",
    "    except Exception as e:\n",
    "        print(f\"Error al insertar datos: {e}\")\n",
    "\n",
    "insert_data(data)"
   ]
  },
  {
   "cell_type": "markdown",
   "metadata": {},
   "source": [
    "Antes de la inserción, se realiza una limpieza de los valores nulos, reemplazando los NaN por None, dado que PostgreSQL trabaja con None para representar valores ausentes, lo que garantiza una correcta compatibilidad con la base de datos. El proceso de inserción se lleva a cabo asegurando que los datos se añadan sin sobrescribir la tabla existente, permitiendo que la base de datos crezca de manera continua sin perder registros previos. Finalmente, se incorpora un mecanismo de manejo de errores para capturar cualquier inconveniente que pueda surgir durante la ejecución y proporcionar mensajes claros en caso de fallos."
   ]
  }
 ],
 "metadata": {
  "kernelspec": {
   "display_name": "venv",
   "language": "python",
   "name": "venv"
  },
  "language_info": {
   "codemirror_mode": {
    "name": "ipython",
    "version": 3
   },
   "file_extension": ".py",
   "mimetype": "text/x-python",
   "name": "python",
   "nbconvert_exporter": "python",
   "pygments_lexer": "ipython3",
   "version": "3.11.4"
  }
 },
 "nbformat": 4,
 "nbformat_minor": 2
}
